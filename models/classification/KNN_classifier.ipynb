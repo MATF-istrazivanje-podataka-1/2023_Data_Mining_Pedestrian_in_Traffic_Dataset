{
 "cells": [
  {
   "cell_type": "code",
   "execution_count": 1,
   "id": "33244f2c",
   "metadata": {},
   "outputs": [],
   "source": [
    "import pandas as pd\n",
    "import numpy as np\n",
    "from sklearn.model_selection import train_test_split\n",
    "from sklearn.preprocessing import MinMaxScaler\n",
    "from sklearn.neighbors import KNeighborsClassifier \n",
    "import sklearn.metrics as metrics\n",
    "from sklearn.model_selection import GridSearchCV\n",
    "from sklearn.ensemble import BaggingClassifier\n",
    "from imblearn.combine import SMOTEENN\n",
    "from imblearn.over_sampling import SMOTE\n",
    "from termcolor import colored\n",
    "from collections import Counter"
   ]
  },
  {
   "cell_type": "code",
   "execution_count": 2,
   "id": "45e94330",
   "metadata": {},
   "outputs": [],
   "source": [
    "df = pd.read_csv(\"../../preprocessing/data_preprocessed.csv\")"
   ]
  },
  {
   "cell_type": "code",
   "execution_count": 3,
   "id": "c2d76d58",
   "metadata": {},
   "outputs": [
    {
     "data": {
      "text/html": [
       "<div>\n",
       "<style scoped>\n",
       "    .dataframe tbody tr th:only-of-type {\n",
       "        vertical-align: middle;\n",
       "    }\n",
       "\n",
       "    .dataframe tbody tr th {\n",
       "        vertical-align: top;\n",
       "    }\n",
       "\n",
       "    .dataframe thead th {\n",
       "        text-align: right;\n",
       "    }\n",
       "</style>\n",
       "<table border=\"1\" class=\"dataframe\">\n",
       "  <thead>\n",
       "    <tr style=\"text-align: right;\">\n",
       "      <th></th>\n",
       "      <th>a (AU)</th>\n",
       "      <th>e</th>\n",
       "      <th>i (deg)</th>\n",
       "      <th>w (deg)</th>\n",
       "      <th>Node (deg)</th>\n",
       "      <th>M (deg)</th>\n",
       "      <th>q (AU)</th>\n",
       "      <th>Q (AU)</th>\n",
       "      <th>H (mag)</th>\n",
       "      <th>MOID (AU)</th>\n",
       "      <th>class</th>\n",
       "    </tr>\n",
       "  </thead>\n",
       "  <tbody>\n",
       "    <tr>\n",
       "      <th>0</th>\n",
       "      <td>1.078066</td>\n",
       "      <td>0.826854</td>\n",
       "      <td>22.825495</td>\n",
       "      <td>31.382966</td>\n",
       "      <td>88.010681</td>\n",
       "      <td>215.528772</td>\n",
       "      <td>0.1867</td>\n",
       "      <td>1.97</td>\n",
       "      <td>16.90</td>\n",
       "      <td>0.034507</td>\n",
       "      <td>APO*</td>\n",
       "    </tr>\n",
       "    <tr>\n",
       "      <th>1</th>\n",
       "      <td>1.245304</td>\n",
       "      <td>0.335342</td>\n",
       "      <td>13.337482</td>\n",
       "      <td>276.893024</td>\n",
       "      <td>337.207958</td>\n",
       "      <td>104.155607</td>\n",
       "      <td>0.8277</td>\n",
       "      <td>1.66</td>\n",
       "      <td>15.60</td>\n",
       "      <td>0.030669</td>\n",
       "      <td>APO*</td>\n",
       "    </tr>\n",
       "    <tr>\n",
       "      <th>2</th>\n",
       "      <td>1.470264</td>\n",
       "      <td>0.559922</td>\n",
       "      <td>6.352995</td>\n",
       "      <td>285.852564</td>\n",
       "      <td>35.736768</td>\n",
       "      <td>174.626213</td>\n",
       "      <td>0.6470</td>\n",
       "      <td>2.29</td>\n",
       "      <td>16.25</td>\n",
       "      <td>0.025795</td>\n",
       "      <td>APO*</td>\n",
       "    </tr>\n",
       "    <tr>\n",
       "      <th>3</th>\n",
       "      <td>1.776025</td>\n",
       "      <td>0.650141</td>\n",
       "      <td>39.832538</td>\n",
       "      <td>267.791993</td>\n",
       "      <td>356.903343</td>\n",
       "      <td>173.188556</td>\n",
       "      <td>0.6214</td>\n",
       "      <td>2.93</td>\n",
       "      <td>15.20</td>\n",
       "      <td>0.003551</td>\n",
       "      <td>APO*</td>\n",
       "    </tr>\n",
       "    <tr>\n",
       "      <th>4</th>\n",
       "      <td>1.874123</td>\n",
       "      <td>0.764602</td>\n",
       "      <td>1.326399</td>\n",
       "      <td>43.388048</td>\n",
       "      <td>349.694944</td>\n",
       "      <td>235.158622</td>\n",
       "      <td>0.4412</td>\n",
       "      <td>3.31</td>\n",
       "      <td>18.80</td>\n",
       "      <td>0.011645</td>\n",
       "      <td>APO*</td>\n",
       "    </tr>\n",
       "  </tbody>\n",
       "</table>\n",
       "</div>"
      ],
      "text/plain": [
       "     a (AU)         e    i (deg)     w (deg)  Node (deg)     M (deg)  q (AU)  \\\n",
       "0  1.078066  0.826854  22.825495   31.382966   88.010681  215.528772  0.1867   \n",
       "1  1.245304  0.335342  13.337482  276.893024  337.207958  104.155607  0.8277   \n",
       "2  1.470264  0.559922   6.352995  285.852564   35.736768  174.626213  0.6470   \n",
       "3  1.776025  0.650141  39.832538  267.791993  356.903343  173.188556  0.6214   \n",
       "4  1.874123  0.764602   1.326399   43.388048  349.694944  235.158622  0.4412   \n",
       "\n",
       "   Q (AU)  H (mag)  MOID (AU) class  \n",
       "0    1.97    16.90   0.034507  APO*  \n",
       "1    1.66    15.60   0.030669  APO*  \n",
       "2    2.29    16.25   0.025795  APO*  \n",
       "3    2.93    15.20   0.003551  APO*  \n",
       "4    3.31    18.80   0.011645  APO*  "
      ]
     },
     "execution_count": 3,
     "metadata": {},
     "output_type": "execute_result"
    }
   ],
   "source": [
    "df.head()"
   ]
  },
  {
   "cell_type": "code",
   "execution_count": 4,
   "id": "306d2416",
   "metadata": {},
   "outputs": [
    {
     "data": {
      "text/html": [
       "<div>\n",
       "<style scoped>\n",
       "    .dataframe tbody tr th:only-of-type {\n",
       "        vertical-align: middle;\n",
       "    }\n",
       "\n",
       "    .dataframe tbody tr th {\n",
       "        vertical-align: top;\n",
       "    }\n",
       "\n",
       "    .dataframe thead th {\n",
       "        text-align: right;\n",
       "    }\n",
       "</style>\n",
       "<table border=\"1\" class=\"dataframe\">\n",
       "  <thead>\n",
       "    <tr style=\"text-align: right;\">\n",
       "      <th></th>\n",
       "      <th>a (AU)</th>\n",
       "      <th>e</th>\n",
       "      <th>i (deg)</th>\n",
       "      <th>w (deg)</th>\n",
       "      <th>Node (deg)</th>\n",
       "      <th>M (deg)</th>\n",
       "      <th>q (AU)</th>\n",
       "      <th>Q (AU)</th>\n",
       "      <th>H (mag)</th>\n",
       "      <th>MOID (AU)</th>\n",
       "    </tr>\n",
       "  </thead>\n",
       "  <tbody>\n",
       "    <tr>\n",
       "      <th>0</th>\n",
       "      <td>1.078066</td>\n",
       "      <td>0.826854</td>\n",
       "      <td>22.825495</td>\n",
       "      <td>31.382966</td>\n",
       "      <td>88.010681</td>\n",
       "      <td>215.528772</td>\n",
       "      <td>0.1867</td>\n",
       "      <td>1.97</td>\n",
       "      <td>16.90</td>\n",
       "      <td>0.034507</td>\n",
       "    </tr>\n",
       "    <tr>\n",
       "      <th>1</th>\n",
       "      <td>1.245304</td>\n",
       "      <td>0.335342</td>\n",
       "      <td>13.337482</td>\n",
       "      <td>276.893024</td>\n",
       "      <td>337.207958</td>\n",
       "      <td>104.155607</td>\n",
       "      <td>0.8277</td>\n",
       "      <td>1.66</td>\n",
       "      <td>15.60</td>\n",
       "      <td>0.030669</td>\n",
       "    </tr>\n",
       "    <tr>\n",
       "      <th>2</th>\n",
       "      <td>1.470264</td>\n",
       "      <td>0.559922</td>\n",
       "      <td>6.352995</td>\n",
       "      <td>285.852564</td>\n",
       "      <td>35.736768</td>\n",
       "      <td>174.626213</td>\n",
       "      <td>0.6470</td>\n",
       "      <td>2.29</td>\n",
       "      <td>16.25</td>\n",
       "      <td>0.025795</td>\n",
       "    </tr>\n",
       "    <tr>\n",
       "      <th>3</th>\n",
       "      <td>1.776025</td>\n",
       "      <td>0.650141</td>\n",
       "      <td>39.832538</td>\n",
       "      <td>267.791993</td>\n",
       "      <td>356.903343</td>\n",
       "      <td>173.188556</td>\n",
       "      <td>0.6214</td>\n",
       "      <td>2.93</td>\n",
       "      <td>15.20</td>\n",
       "      <td>0.003551</td>\n",
       "    </tr>\n",
       "    <tr>\n",
       "      <th>4</th>\n",
       "      <td>1.874123</td>\n",
       "      <td>0.764602</td>\n",
       "      <td>1.326399</td>\n",
       "      <td>43.388048</td>\n",
       "      <td>349.694944</td>\n",
       "      <td>235.158622</td>\n",
       "      <td>0.4412</td>\n",
       "      <td>3.31</td>\n",
       "      <td>18.80</td>\n",
       "      <td>0.011645</td>\n",
       "    </tr>\n",
       "  </tbody>\n",
       "</table>\n",
       "</div>"
      ],
      "text/plain": [
       "     a (AU)         e    i (deg)     w (deg)  Node (deg)     M (deg)  q (AU)  \\\n",
       "0  1.078066  0.826854  22.825495   31.382966   88.010681  215.528772  0.1867   \n",
       "1  1.245304  0.335342  13.337482  276.893024  337.207958  104.155607  0.8277   \n",
       "2  1.470264  0.559922   6.352995  285.852564   35.736768  174.626213  0.6470   \n",
       "3  1.776025  0.650141  39.832538  267.791993  356.903343  173.188556  0.6214   \n",
       "4  1.874123  0.764602   1.326399   43.388048  349.694944  235.158622  0.4412   \n",
       "\n",
       "   Q (AU)  H (mag)  MOID (AU)  \n",
       "0    1.97    16.90   0.034507  \n",
       "1    1.66    15.60   0.030669  \n",
       "2    2.29    16.25   0.025795  \n",
       "3    2.93    15.20   0.003551  \n",
       "4    3.31    18.80   0.011645  "
      ]
     },
     "execution_count": 4,
     "metadata": {},
     "output_type": "execute_result"
    }
   ],
   "source": [
    "Y = df['class']\n",
    "X = df.drop('class', axis=1)\n",
    "feature_names = X.columns\n",
    "X.head()"
   ]
  },
  {
   "cell_type": "code",
   "execution_count": 5,
   "id": "e7af52dc",
   "metadata": {},
   "outputs": [
    {
     "data": {
      "text/plain": [
       "(1747, 10)"
      ]
     },
     "execution_count": 5,
     "metadata": {},
     "output_type": "execute_result"
    }
   ],
   "source": [
    "X.shape"
   ]
  },
  {
   "cell_type": "code",
   "execution_count": 6,
   "id": "28c8b3ea",
   "metadata": {},
   "outputs": [
    {
     "data": {
      "text/plain": [
       "(1747,)"
      ]
     },
     "execution_count": 6,
     "metadata": {},
     "output_type": "execute_result"
    }
   ],
   "source": [
    "Y.shape"
   ]
  },
  {
   "cell_type": "code",
   "execution_count": 7,
   "id": "a33bd442",
   "metadata": {},
   "outputs": [
    {
     "data": {
      "text/plain": [
       "array(['APO*', 'ATE*', 'AMO*', 'APO', 'IEO*', 'ATE'], dtype=object)"
      ]
     },
     "execution_count": 7,
     "metadata": {},
     "output_type": "execute_result"
    }
   ],
   "source": [
    "Y.unique()"
   ]
  },
  {
   "cell_type": "code",
   "execution_count": 9,
   "id": "b5c835de",
   "metadata": {},
   "outputs": [],
   "source": [
    "X_train, X_test, Y_train, Y_test = train_test_split(X, Y, test_size=0.3, stratify=Y, random_state=0)"
   ]
  },
  {
   "cell_type": "code",
   "execution_count": 11,
   "id": "3e2adfc4",
   "metadata": {},
   "outputs": [],
   "source": [
    "scaler = MinMaxScaler()\n",
    "scaler.fit(X_train)\n",
    "X_train = scaler.transform(X_train)\n",
    "X_test = scaler.transform(X_test)"
   ]
  },
  {
   "cell_type": "code",
   "execution_count": 12,
   "id": "3dde2153",
   "metadata": {},
   "outputs": [],
   "source": [
    "def knn_report(y_true, y_pred):\n",
    "\n",
    "  confusion_matrix = metrics.confusion_matrix(y_true, y_pred)\n",
    "\n",
    "  accuracy = metrics.accuracy_score(y_true, y_pred)\n",
    "  # Izabran je micro jer je default binary i micro uzima u obzir da su sve komponente jednako bitne\n",
    "  precision = metrics.precision_score(y_true, y_pred, average = 'micro')\n",
    "  recall = metrics.recall_score(y_true, y_pred, average = 'micro')\n",
    "  f1 = metrics.f1_score(y_true, y_pred, average = 'micro')\n",
    "\n",
    "  print(\"Confusion matrix:\")\n",
    "  print(confusion_matrix)\n",
    "  print(\"Accuracy:\", accuracy)\n",
    "  print(\"Precision:\", precision)\n",
    "  print(\"Recall:\", recall)\n",
    "  print(\"F1 score:\", f1)"
   ]
  },
  {
   "cell_type": "code",
   "execution_count": 13,
   "id": "b3b58f3e",
   "metadata": {},
   "outputs": [
    {
     "name": "stdout",
     "output_type": "stream",
     "text": [
      "Confusion matrix:\n",
      "[[  31    0   36    0    0    0]\n",
      " [   0    0   10    0    0    0]\n",
      " [   3    0 1024    0    5    0]\n",
      " [   0    0    3    0    2    0]\n",
      " [   0    0   35    0   69    0]\n",
      " [   0    0    2    0    2    0]]\n",
      "Accuracy: 0.9198036006546645\n",
      "Precision: 0.9198036006546645\n",
      "Recall: 0.9198036006546645\n",
      "F1 score: 0.9198036006546645\n"
     ]
    }
   ],
   "source": [
    "knn = KNeighborsClassifier()\n",
    "knn.fit(X_train, Y_train)\n",
    "Y_train_pred = knn.predict(X_train)\n",
    "knn_report(Y_train, Y_train_pred)"
   ]
  },
  {
   "cell_type": "code",
   "execution_count": 14,
   "id": "55b6d7a2",
   "metadata": {},
   "outputs": [
    {
     "name": "stdout",
     "output_type": "stream",
     "text": [
      "Confusion matrix:\n",
      "[[  2   0  27   0   0   0]\n",
      " [  0   0   4   0   0   0]\n",
      " [  4   0 436   0   4   0]\n",
      " [  0   0   1   0   1   0]\n",
      " [  0   0  28   0  17   0]\n",
      " [  0   0   0   0   1   0]]\n",
      "Accuracy: 0.8666666666666667\n",
      "Precision: 0.8666666666666667\n",
      "Recall: 0.8666666666666667\n",
      "F1 score: 0.8666666666666667\n"
     ]
    }
   ],
   "source": [
    "Y_test_pred = knn.predict(X_test)\n",
    "knn_report(Y_test, Y_test_pred)"
   ]
  },
  {
   "cell_type": "code",
   "execution_count": 15,
   "id": "b4b2887f",
   "metadata": {},
   "outputs": [],
   "source": [
    "params = {\n",
    "    'n_neighbors' : range(2,20),\n",
    "    'weights' : ['uniform', 'distance'],\n",
    "    'p' : [1,2]\n",
    "}"
   ]
  },
  {
   "cell_type": "code",
   "execution_count": 16,
   "id": "ec0d29b1",
   "metadata": {},
   "outputs": [],
   "source": [
    "estimator = GridSearchCV(KNeighborsClassifier(), params, cv = 4, verbose = 4)"
   ]
  },
  {
   "cell_type": "code",
   "execution_count": 17,
   "id": "c54b41cf",
   "metadata": {},
   "outputs": [
    {
     "name": "stdout",
     "output_type": "stream",
     "text": [
      "Fitting 4 folds for each of 72 candidates, totalling 288 fits\n",
      "[CV 1/4] END n_neighbors=2, p=1, weights=uniform;, score=0.879 total time=   0.0s\n",
      "[CV 2/4] END n_neighbors=2, p=1, weights=uniform;, score=0.856 total time=   0.0s\n",
      "[CV 3/4] END n_neighbors=2, p=1, weights=uniform;, score=0.849 total time=   0.0s\n",
      "[CV 4/4] END n_neighbors=2, p=1, weights=uniform;, score=0.843 total time=   0.0s\n",
      "[CV 1/4] END n_neighbors=2, p=1, weights=distance;, score=0.882 total time=   0.0s\n",
      "[CV 2/4] END n_neighbors=2, p=1, weights=distance;, score=0.882 total time=   0.0s\n",
      "[CV 3/4] END n_neighbors=2, p=1, weights=distance;, score=0.866 total time=   0.0s\n",
      "[CV 4/4] END n_neighbors=2, p=1, weights=distance;, score=0.869 total time=   0.0s\n",
      "[CV 1/4] END n_neighbors=2, p=2, weights=uniform;, score=0.853 total time=   0.0s\n",
      "[CV 2/4] END n_neighbors=2, p=2, weights=uniform;, score=0.833 total time=   0.0s\n",
      "[CV 3/4] END n_neighbors=2, p=2, weights=uniform;, score=0.833 total time=   0.0s\n",
      "[CV 4/4] END n_neighbors=2, p=2, weights=uniform;, score=0.836 total time=   0.0s\n",
      "[CV 1/4] END n_neighbors=2, p=2, weights=distance;, score=0.882 total time=   0.0s\n",
      "[CV 2/4] END n_neighbors=2, p=2, weights=distance;, score=0.853 total time=   0.0s\n",
      "[CV 3/4] END n_neighbors=2, p=2, weights=distance;, score=0.849 total time=   0.0s\n",
      "[CV 4/4] END n_neighbors=2, p=2, weights=distance;, score=0.869 total time=   0.0s\n",
      "[CV 1/4] END n_neighbors=3, p=1, weights=uniform;, score=0.905 total time=   0.0s\n",
      "[CV 2/4] END n_neighbors=3, p=1, weights=uniform;, score=0.869 total time=   0.0s\n",
      "[CV 3/4] END n_neighbors=3, p=1, weights=uniform;, score=0.885 total time=   0.0s\n",
      "[CV 4/4] END n_neighbors=3, p=1, weights=uniform;, score=0.875 total time=   0.0s\n",
      "[CV 1/4] END n_neighbors=3, p=1, weights=distance;, score=0.905 total time=   0.0s\n",
      "[CV 2/4] END n_neighbors=3, p=1, weights=distance;, score=0.873 total time=   0.0s\n",
      "[CV 3/4] END n_neighbors=3, p=1, weights=distance;, score=0.889 total time=   0.0s\n",
      "[CV 4/4] END n_neighbors=3, p=1, weights=distance;, score=0.882 total time=   0.0s\n",
      "[CV 1/4] END n_neighbors=3, p=2, weights=uniform;, score=0.882 total time=   0.0s\n",
      "[CV 2/4] END n_neighbors=3, p=2, weights=uniform;, score=0.866 total time=   0.0s\n",
      "[CV 3/4] END n_neighbors=3, p=2, weights=uniform;, score=0.866 total time=   0.0s\n",
      "[CV 4/4] END n_neighbors=3, p=2, weights=uniform;, score=0.872 total time=   0.0s\n",
      "[CV 1/4] END n_neighbors=3, p=2, weights=distance;, score=0.876 total time=   0.0s\n",
      "[CV 2/4] END n_neighbors=3, p=2, weights=distance;, score=0.866 total time=   0.0s\n",
      "[CV 3/4] END n_neighbors=3, p=2, weights=distance;, score=0.866 total time=   0.0s\n",
      "[CV 4/4] END n_neighbors=3, p=2, weights=distance;, score=0.875 total time=   0.0s\n",
      "[CV 1/4] END n_neighbors=4, p=1, weights=uniform;, score=0.912 total time=   0.0s\n",
      "[CV 2/4] END n_neighbors=4, p=1, weights=uniform;, score=0.863 total time=   0.0s\n",
      "[CV 3/4] END n_neighbors=4, p=1, weights=uniform;, score=0.882 total time=   0.0s\n",
      "[CV 4/4] END n_neighbors=4, p=1, weights=uniform;, score=0.879 total time=   0.0s\n",
      "[CV 1/4] END n_neighbors=4, p=1, weights=distance;, score=0.925 total time=   0.0s\n",
      "[CV 2/4] END n_neighbors=4, p=1, weights=distance;, score=0.889 total time=   0.0s\n",
      "[CV 3/4] END n_neighbors=4, p=1, weights=distance;, score=0.902 total time=   0.0s\n",
      "[CV 4/4] END n_neighbors=4, p=1, weights=distance;, score=0.892 total time=   0.0s\n",
      "[CV 1/4] END n_neighbors=4, p=2, weights=uniform;, score=0.873 total time=   0.0s\n",
      "[CV 2/4] END n_neighbors=4, p=2, weights=uniform;, score=0.863 total time=   0.0s\n",
      "[CV 3/4] END n_neighbors=4, p=2, weights=uniform;, score=0.836 total time=   0.0s\n",
      "[CV 4/4] END n_neighbors=4, p=2, weights=uniform;, score=0.879 total time=   0.0s\n",
      "[CV 1/4] END n_neighbors=4, p=2, weights=distance;, score=0.899 total time=   0.0s\n",
      "[CV 2/4] END n_neighbors=4, p=2, weights=distance;, score=0.882 total time=   0.0s\n",
      "[CV 3/4] END n_neighbors=4, p=2, weights=distance;, score=0.866 total time=   0.0s\n",
      "[CV 4/4] END n_neighbors=4, p=2, weights=distance;, score=0.882 total time=   0.0s\n",
      "[CV 1/4] END n_neighbors=5, p=1, weights=uniform;, score=0.915 total time=   0.0s\n",
      "[CV 2/4] END n_neighbors=5, p=1, weights=uniform;, score=0.879 total time=   0.0s\n",
      "[CV 3/4] END n_neighbors=5, p=1, weights=uniform;, score=0.908 total time=   0.0s\n",
      "[CV 4/4] END n_neighbors=5, p=1, weights=uniform;, score=0.898 total time=   0.0s\n",
      "[CV 1/4] END n_neighbors=5, p=1, weights=distance;, score=0.912 total time=   0.0s\n",
      "[CV 2/4] END n_neighbors=5, p=1, weights=distance;, score=0.882 total time=   0.0s\n",
      "[CV 3/4] END n_neighbors=5, p=1, weights=distance;, score=0.908 total time=   0.0s\n",
      "[CV 4/4] END n_neighbors=5, p=1, weights=distance;, score=0.898 total time=   0.0s\n",
      "[CV 1/4] END n_neighbors=5, p=2, weights=uniform;, score=0.889 total time=   0.0s\n",
      "[CV 2/4] END n_neighbors=5, p=2, weights=uniform;, score=0.876 total time=   0.0s\n",
      "[CV 3/4] END n_neighbors=5, p=2, weights=uniform;, score=0.866 total time=   0.0s\n",
      "[CV 4/4] END n_neighbors=5, p=2, weights=uniform;, score=0.879 total time=   0.0s\n",
      "[CV 1/4] END n_neighbors=5, p=2, weights=distance;, score=0.889 total time=   0.0s\n",
      "[CV 2/4] END n_neighbors=5, p=2, weights=distance;, score=0.876 total time=   0.0s\n",
      "[CV 3/4] END n_neighbors=5, p=2, weights=distance;, score=0.869 total time=   0.0s\n",
      "[CV 4/4] END n_neighbors=5, p=2, weights=distance;, score=0.889 total time=   0.0s\n",
      "[CV 1/4] END n_neighbors=6, p=1, weights=uniform;, score=0.912 total time=   0.0s\n",
      "[CV 2/4] END n_neighbors=6, p=1, weights=uniform;, score=0.866 total time=   0.0s\n",
      "[CV 3/4] END n_neighbors=6, p=1, weights=uniform;, score=0.898 total time=   0.0s\n",
      "[CV 4/4] END n_neighbors=6, p=1, weights=uniform;, score=0.902 total time=   0.0s\n",
      "[CV 1/4] END n_neighbors=6, p=1, weights=distance;, score=0.918 total time=   0.0s\n",
      "[CV 2/4] END n_neighbors=6, p=1, weights=distance;, score=0.889 total time=   0.0s\n",
      "[CV 3/4] END n_neighbors=6, p=1, weights=distance;, score=0.905 total time=   0.0s\n",
      "[CV 4/4] END n_neighbors=6, p=1, weights=distance;, score=0.911 total time=   0.0s\n",
      "[CV 1/4] END n_neighbors=6, p=2, weights=uniform;, score=0.869 total time=   0.0s\n",
      "[CV 2/4] END n_neighbors=6, p=2, weights=uniform;, score=0.866 total time=   0.0s\n",
      "[CV 3/4] END n_neighbors=6, p=2, weights=uniform;, score=0.852 total time=   0.0s\n",
      "[CV 4/4] END n_neighbors=6, p=2, weights=uniform;, score=0.872 total time=   0.0s\n",
      "[CV 1/4] END n_neighbors=6, p=2, weights=distance;, score=0.895 total time=   0.0s\n",
      "[CV 2/4] END n_neighbors=6, p=2, weights=distance;, score=0.879 total time=   0.0s\n",
      "[CV 3/4] END n_neighbors=6, p=2, weights=distance;, score=0.869 total time=   0.0s\n",
      "[CV 4/4] END n_neighbors=6, p=2, weights=distance;, score=0.889 total time=   0.0s\n",
      "[CV 1/4] END n_neighbors=7, p=1, weights=uniform;, score=0.915 total time=   0.0s\n",
      "[CV 2/4] END n_neighbors=7, p=1, weights=uniform;, score=0.882 total time=   0.0s\n",
      "[CV 3/4] END n_neighbors=7, p=1, weights=uniform;, score=0.895 total time=   0.0s\n",
      "[CV 4/4] END n_neighbors=7, p=1, weights=uniform;, score=0.892 total time=   0.0s\n",
      "[CV 1/4] END n_neighbors=7, p=1, weights=distance;, score=0.915 total time=   0.0s\n",
      "[CV 2/4] END n_neighbors=7, p=1, weights=distance;, score=0.882 total time=   0.0s\n",
      "[CV 3/4] END n_neighbors=7, p=1, weights=distance;, score=0.895 total time=   0.0s\n",
      "[CV 4/4] END n_neighbors=7, p=1, weights=distance;, score=0.908 total time=   0.0s\n",
      "[CV 1/4] END n_neighbors=7, p=2, weights=uniform;, score=0.889 total time=   0.0s\n",
      "[CV 2/4] END n_neighbors=7, p=2, weights=uniform;, score=0.869 total time=   0.0s\n",
      "[CV 3/4] END n_neighbors=7, p=2, weights=uniform;, score=0.859 total time=   0.0s\n",
      "[CV 4/4] END n_neighbors=7, p=2, weights=uniform;, score=0.879 total time=   0.0s\n",
      "[CV 1/4] END n_neighbors=7, p=2, weights=distance;, score=0.895 total time=   0.0s\n",
      "[CV 2/4] END n_neighbors=7, p=2, weights=distance;, score=0.869 total time=   0.0s\n",
      "[CV 3/4] END n_neighbors=7, p=2, weights=distance;, score=0.862 total time=   0.0s\n",
      "[CV 4/4] END n_neighbors=7, p=2, weights=distance;, score=0.885 total time=   0.0s\n",
      "[CV 1/4] END n_neighbors=8, p=1, weights=uniform;, score=0.918 total time=   0.0s\n",
      "[CV 2/4] END n_neighbors=8, p=1, weights=uniform;, score=0.876 total time=   0.0s\n",
      "[CV 3/4] END n_neighbors=8, p=1, weights=uniform;, score=0.885 total time=   0.0s\n",
      "[CV 4/4] END n_neighbors=8, p=1, weights=uniform;, score=0.889 total time=   0.0s\n",
      "[CV 1/4] END n_neighbors=8, p=1, weights=distance;, score=0.918 total time=   0.0s\n",
      "[CV 2/4] END n_neighbors=8, p=1, weights=distance;, score=0.882 total time=   0.0s\n",
      "[CV 3/4] END n_neighbors=8, p=1, weights=distance;, score=0.898 total time=   0.0s\n"
     ]
    },
    {
     "name": "stdout",
     "output_type": "stream",
     "text": [
      "[CV 4/4] END n_neighbors=8, p=1, weights=distance;, score=0.898 total time=   0.0s\n",
      "[CV 1/4] END n_neighbors=8, p=2, weights=uniform;, score=0.866 total time=   0.0s\n",
      "[CV 2/4] END n_neighbors=8, p=2, weights=uniform;, score=0.843 total time=   0.0s\n",
      "[CV 3/4] END n_neighbors=8, p=2, weights=uniform;, score=0.856 total time=   0.0s\n",
      "[CV 4/4] END n_neighbors=8, p=2, weights=uniform;, score=0.875 total time=   0.0s\n",
      "[CV 1/4] END n_neighbors=8, p=2, weights=distance;, score=0.892 total time=   0.0s\n",
      "[CV 2/4] END n_neighbors=8, p=2, weights=distance;, score=0.869 total time=   0.0s\n",
      "[CV 3/4] END n_neighbors=8, p=2, weights=distance;, score=0.859 total time=   0.0s\n",
      "[CV 4/4] END n_neighbors=8, p=2, weights=distance;, score=0.885 total time=   0.0s\n",
      "[CV 1/4] END n_neighbors=9, p=1, weights=uniform;, score=0.908 total time=   0.0s\n",
      "[CV 2/4] END n_neighbors=9, p=1, weights=uniform;, score=0.886 total time=   0.0s\n",
      "[CV 3/4] END n_neighbors=9, p=1, weights=uniform;, score=0.879 total time=   0.0s\n",
      "[CV 4/4] END n_neighbors=9, p=1, weights=uniform;, score=0.889 total time=   0.0s\n",
      "[CV 1/4] END n_neighbors=9, p=1, weights=distance;, score=0.908 total time=   0.0s\n",
      "[CV 2/4] END n_neighbors=9, p=1, weights=distance;, score=0.886 total time=   0.0s\n",
      "[CV 3/4] END n_neighbors=9, p=1, weights=distance;, score=0.889 total time=   0.0s\n",
      "[CV 4/4] END n_neighbors=9, p=1, weights=distance;, score=0.895 total time=   0.0s\n",
      "[CV 1/4] END n_neighbors=9, p=2, weights=uniform;, score=0.882 total time=   0.0s\n",
      "[CV 2/4] END n_neighbors=9, p=2, weights=uniform;, score=0.856 total time=   0.0s\n",
      "[CV 3/4] END n_neighbors=9, p=2, weights=uniform;, score=0.856 total time=   0.0s\n",
      "[CV 4/4] END n_neighbors=9, p=2, weights=uniform;, score=0.859 total time=   0.0s\n",
      "[CV 1/4] END n_neighbors=9, p=2, weights=distance;, score=0.889 total time=   0.0s\n",
      "[CV 2/4] END n_neighbors=9, p=2, weights=distance;, score=0.859 total time=   0.0s\n",
      "[CV 3/4] END n_neighbors=9, p=2, weights=distance;, score=0.859 total time=   0.0s\n",
      "[CV 4/4] END n_neighbors=9, p=2, weights=distance;, score=0.872 total time=   0.0s\n",
      "[CV 1/4] END n_neighbors=10, p=1, weights=uniform;, score=0.912 total time=   0.0s\n",
      "[CV 2/4] END n_neighbors=10, p=1, weights=uniform;, score=0.882 total time=   0.0s\n",
      "[CV 3/4] END n_neighbors=10, p=1, weights=uniform;, score=0.879 total time=   0.0s\n",
      "[CV 4/4] END n_neighbors=10, p=1, weights=uniform;, score=0.892 total time=   0.0s\n",
      "[CV 1/4] END n_neighbors=10, p=1, weights=distance;, score=0.915 total time=   0.0s\n",
      "[CV 2/4] END n_neighbors=10, p=1, weights=distance;, score=0.889 total time=   0.0s\n",
      "[CV 3/4] END n_neighbors=10, p=1, weights=distance;, score=0.889 total time=   0.0s\n",
      "[CV 4/4] END n_neighbors=10, p=1, weights=distance;, score=0.902 total time=   0.0s\n",
      "[CV 1/4] END n_neighbors=10, p=2, weights=uniform;, score=0.869 total time=   0.0s\n",
      "[CV 2/4] END n_neighbors=10, p=2, weights=uniform;, score=0.853 total time=   0.0s\n",
      "[CV 3/4] END n_neighbors=10, p=2, weights=uniform;, score=0.866 total time=   0.0s\n",
      "[CV 4/4] END n_neighbors=10, p=2, weights=uniform;, score=0.869 total time=   0.0s\n",
      "[CV 1/4] END n_neighbors=10, p=2, weights=distance;, score=0.889 total time=   0.0s\n",
      "[CV 2/4] END n_neighbors=10, p=2, weights=distance;, score=0.866 total time=   0.0s\n",
      "[CV 3/4] END n_neighbors=10, p=2, weights=distance;, score=0.866 total time=   0.0s\n",
      "[CV 4/4] END n_neighbors=10, p=2, weights=distance;, score=0.875 total time=   0.0s\n",
      "[CV 1/4] END n_neighbors=11, p=1, weights=uniform;, score=0.918 total time=   0.0s\n",
      "[CV 2/4] END n_neighbors=11, p=1, weights=uniform;, score=0.886 total time=   0.0s\n",
      "[CV 3/4] END n_neighbors=11, p=1, weights=uniform;, score=0.875 total time=   0.0s\n",
      "[CV 4/4] END n_neighbors=11, p=1, weights=uniform;, score=0.892 total time=   0.0s\n",
      "[CV 1/4] END n_neighbors=11, p=1, weights=distance;, score=0.918 total time=   0.0s\n",
      "[CV 2/4] END n_neighbors=11, p=1, weights=distance;, score=0.889 total time=   0.0s\n",
      "[CV 3/4] END n_neighbors=11, p=1, weights=distance;, score=0.879 total time=   0.0s\n",
      "[CV 4/4] END n_neighbors=11, p=1, weights=distance;, score=0.902 total time=   0.0s\n",
      "[CV 1/4] END n_neighbors=11, p=2, weights=uniform;, score=0.876 total time=   0.0s\n",
      "[CV 2/4] END n_neighbors=11, p=2, weights=uniform;, score=0.856 total time=   0.0s\n",
      "[CV 3/4] END n_neighbors=11, p=2, weights=uniform;, score=0.859 total time=   0.0s\n",
      "[CV 4/4] END n_neighbors=11, p=2, weights=uniform;, score=0.875 total time=   0.0s\n",
      "[CV 1/4] END n_neighbors=11, p=2, weights=distance;, score=0.879 total time=   0.0s\n",
      "[CV 2/4] END n_neighbors=11, p=2, weights=distance;, score=0.856 total time=   0.0s\n",
      "[CV 3/4] END n_neighbors=11, p=2, weights=distance;, score=0.859 total time=   0.0s\n",
      "[CV 4/4] END n_neighbors=11, p=2, weights=distance;, score=0.882 total time=   0.0s\n",
      "[CV 1/4] END n_neighbors=12, p=1, weights=uniform;, score=0.908 total time=   0.0s\n",
      "[CV 2/4] END n_neighbors=12, p=1, weights=uniform;, score=0.879 total time=   0.0s\n",
      "[CV 3/4] END n_neighbors=12, p=1, weights=uniform;, score=0.882 total time=   0.0s\n",
      "[CV 4/4] END n_neighbors=12, p=1, weights=uniform;, score=0.905 total time=   0.0s\n",
      "[CV 1/4] END n_neighbors=12, p=1, weights=distance;, score=0.915 total time=   0.0s\n",
      "[CV 2/4] END n_neighbors=12, p=1, weights=distance;, score=0.892 total time=   0.0s\n",
      "[CV 3/4] END n_neighbors=12, p=1, weights=distance;, score=0.885 total time=   0.0s\n",
      "[CV 4/4] END n_neighbors=12, p=1, weights=distance;, score=0.902 total time=   0.0s\n",
      "[CV 1/4] END n_neighbors=12, p=2, weights=uniform;, score=0.869 total time=   0.0s\n",
      "[CV 2/4] END n_neighbors=12, p=2, weights=uniform;, score=0.850 total time=   0.0s\n",
      "[CV 3/4] END n_neighbors=12, p=2, weights=uniform;, score=0.856 total time=   0.0s\n",
      "[CV 4/4] END n_neighbors=12, p=2, weights=uniform;, score=0.862 total time=   0.0s\n",
      "[CV 1/4] END n_neighbors=12, p=2, weights=distance;, score=0.879 total time=   0.0s\n",
      "[CV 2/4] END n_neighbors=12, p=2, weights=distance;, score=0.863 total time=   0.0s\n",
      "[CV 3/4] END n_neighbors=12, p=2, weights=distance;, score=0.859 total time=   0.0s\n",
      "[CV 4/4] END n_neighbors=12, p=2, weights=distance;, score=0.879 total time=   0.0s\n",
      "[CV 1/4] END n_neighbors=13, p=1, weights=uniform;, score=0.915 total time=   0.0s\n",
      "[CV 2/4] END n_neighbors=13, p=1, weights=uniform;, score=0.882 total time=   0.0s\n",
      "[CV 3/4] END n_neighbors=13, p=1, weights=uniform;, score=0.872 total time=   0.0s\n",
      "[CV 4/4] END n_neighbors=13, p=1, weights=uniform;, score=0.902 total time=   0.0s\n",
      "[CV 1/4] END n_neighbors=13, p=1, weights=distance;, score=0.918 total time=   0.0s\n",
      "[CV 2/4] END n_neighbors=13, p=1, weights=distance;, score=0.886 total time=   0.0s\n",
      "[CV 3/4] END n_neighbors=13, p=1, weights=distance;, score=0.882 total time=   0.0s\n",
      "[CV 4/4] END n_neighbors=13, p=1, weights=distance;, score=0.905 total time=   0.0s\n",
      "[CV 1/4] END n_neighbors=13, p=2, weights=uniform;, score=0.873 total time=   0.0s\n",
      "[CV 2/4] END n_neighbors=13, p=2, weights=uniform;, score=0.859 total time=   0.0s\n",
      "[CV 3/4] END n_neighbors=13, p=2, weights=uniform;, score=0.856 total time=   0.0s\n",
      "[CV 4/4] END n_neighbors=13, p=2, weights=uniform;, score=0.866 total time=   0.0s\n",
      "[CV 1/4] END n_neighbors=13, p=2, weights=distance;, score=0.876 total time=   0.0s\n",
      "[CV 2/4] END n_neighbors=13, p=2, weights=distance;, score=0.859 total time=   0.0s\n",
      "[CV 3/4] END n_neighbors=13, p=2, weights=distance;, score=0.862 total time=   0.0s\n",
      "[CV 4/4] END n_neighbors=13, p=2, weights=distance;, score=0.872 total time=   0.0s\n",
      "[CV 1/4] END n_neighbors=14, p=1, weights=uniform;, score=0.902 total time=   0.0s\n",
      "[CV 2/4] END n_neighbors=14, p=1, weights=uniform;, score=0.873 total time=   0.0s\n",
      "[CV 3/4] END n_neighbors=14, p=1, weights=uniform;, score=0.879 total time=   0.0s\n",
      "[CV 4/4] END n_neighbors=14, p=1, weights=uniform;, score=0.902 total time=   0.0s\n",
      "[CV 1/4] END n_neighbors=14, p=1, weights=distance;, score=0.912 total time=   0.0s\n",
      "[CV 2/4] END n_neighbors=14, p=1, weights=distance;, score=0.889 total time=   0.0s\n",
      "[CV 3/4] END n_neighbors=14, p=1, weights=distance;, score=0.882 total time=   0.0s\n",
      "[CV 4/4] END n_neighbors=14, p=1, weights=distance;, score=0.902 total time=   0.0s\n",
      "[CV 1/4] END n_neighbors=14, p=2, weights=uniform;, score=0.866 total time=   0.0s\n",
      "[CV 2/4] END n_neighbors=14, p=2, weights=uniform;, score=0.846 total time=   0.0s\n",
      "[CV 3/4] END n_neighbors=14, p=2, weights=uniform;, score=0.856 total time=   0.0s\n",
      "[CV 4/4] END n_neighbors=14, p=2, weights=uniform;, score=0.859 total time=   0.0s\n"
     ]
    },
    {
     "name": "stdout",
     "output_type": "stream",
     "text": [
      "[CV 1/4] END n_neighbors=14, p=2, weights=distance;, score=0.876 total time=   0.0s\n",
      "[CV 2/4] END n_neighbors=14, p=2, weights=distance;, score=0.856 total time=   0.0s\n",
      "[CV 3/4] END n_neighbors=14, p=2, weights=distance;, score=0.856 total time=   0.0s\n",
      "[CV 4/4] END n_neighbors=14, p=2, weights=distance;, score=0.879 total time=   0.0s\n",
      "[CV 1/4] END n_neighbors=15, p=1, weights=uniform;, score=0.902 total time=   0.0s\n",
      "[CV 2/4] END n_neighbors=15, p=1, weights=uniform;, score=0.876 total time=   0.0s\n",
      "[CV 3/4] END n_neighbors=15, p=1, weights=uniform;, score=0.875 total time=   0.0s\n",
      "[CV 4/4] END n_neighbors=15, p=1, weights=uniform;, score=0.898 total time=   0.0s\n",
      "[CV 1/4] END n_neighbors=15, p=1, weights=distance;, score=0.908 total time=   0.0s\n",
      "[CV 2/4] END n_neighbors=15, p=1, weights=distance;, score=0.889 total time=   0.0s\n",
      "[CV 3/4] END n_neighbors=15, p=1, weights=distance;, score=0.875 total time=   0.0s\n",
      "[CV 4/4] END n_neighbors=15, p=1, weights=distance;, score=0.905 total time=   0.0s\n",
      "[CV 1/4] END n_neighbors=15, p=2, weights=uniform;, score=0.866 total time=   0.0s\n",
      "[CV 2/4] END n_neighbors=15, p=2, weights=uniform;, score=0.856 total time=   0.0s\n",
      "[CV 3/4] END n_neighbors=15, p=2, weights=uniform;, score=0.856 total time=   0.0s\n",
      "[CV 4/4] END n_neighbors=15, p=2, weights=uniform;, score=0.859 total time=   0.0s\n",
      "[CV 1/4] END n_neighbors=15, p=2, weights=distance;, score=0.873 total time=   0.0s\n",
      "[CV 2/4] END n_neighbors=15, p=2, weights=distance;, score=0.856 total time=   0.0s\n",
      "[CV 3/4] END n_neighbors=15, p=2, weights=distance;, score=0.856 total time=   0.0s\n",
      "[CV 4/4] END n_neighbors=15, p=2, weights=distance;, score=0.869 total time=   0.0s\n",
      "[CV 1/4] END n_neighbors=16, p=1, weights=uniform;, score=0.895 total time=   0.0s\n",
      "[CV 2/4] END n_neighbors=16, p=1, weights=uniform;, score=0.876 total time=   0.0s\n",
      "[CV 3/4] END n_neighbors=16, p=1, weights=uniform;, score=0.872 total time=   0.0s\n",
      "[CV 4/4] END n_neighbors=16, p=1, weights=uniform;, score=0.898 total time=   0.0s\n",
      "[CV 1/4] END n_neighbors=16, p=1, weights=distance;, score=0.912 total time=   0.0s\n",
      "[CV 2/4] END n_neighbors=16, p=1, weights=distance;, score=0.882 total time=   0.0s\n",
      "[CV 3/4] END n_neighbors=16, p=1, weights=distance;, score=0.875 total time=   0.0s\n",
      "[CV 4/4] END n_neighbors=16, p=1, weights=distance;, score=0.902 total time=   0.0s\n",
      "[CV 1/4] END n_neighbors=16, p=2, weights=uniform;, score=0.859 total time=   0.0s\n",
      "[CV 2/4] END n_neighbors=16, p=2, weights=uniform;, score=0.853 total time=   0.0s\n",
      "[CV 3/4] END n_neighbors=16, p=2, weights=uniform;, score=0.856 total time=   0.0s\n",
      "[CV 4/4] END n_neighbors=16, p=2, weights=uniform;, score=0.856 total time=   0.0s\n",
      "[CV 1/4] END n_neighbors=16, p=2, weights=distance;, score=0.873 total time=   0.0s\n",
      "[CV 2/4] END n_neighbors=16, p=2, weights=distance;, score=0.856 total time=   0.0s\n",
      "[CV 3/4] END n_neighbors=16, p=2, weights=distance;, score=0.856 total time=   0.0s\n",
      "[CV 4/4] END n_neighbors=16, p=2, weights=distance;, score=0.875 total time=   0.0s\n",
      "[CV 1/4] END n_neighbors=17, p=1, weights=uniform;, score=0.905 total time=   0.0s\n",
      "[CV 2/4] END n_neighbors=17, p=1, weights=uniform;, score=0.876 total time=   0.0s\n",
      "[CV 3/4] END n_neighbors=17, p=1, weights=uniform;, score=0.872 total time=   0.0s\n",
      "[CV 4/4] END n_neighbors=17, p=1, weights=uniform;, score=0.892 total time=   0.0s\n",
      "[CV 1/4] END n_neighbors=17, p=1, weights=distance;, score=0.908 total time=   0.0s\n",
      "[CV 2/4] END n_neighbors=17, p=1, weights=distance;, score=0.882 total time=   0.0s\n",
      "[CV 3/4] END n_neighbors=17, p=1, weights=distance;, score=0.875 total time=   0.0s\n",
      "[CV 4/4] END n_neighbors=17, p=1, weights=distance;, score=0.905 total time=   0.0s\n",
      "[CV 1/4] END n_neighbors=17, p=2, weights=uniform;, score=0.859 total time=   0.0s\n",
      "[CV 2/4] END n_neighbors=17, p=2, weights=uniform;, score=0.853 total time=   0.0s\n",
      "[CV 3/4] END n_neighbors=17, p=2, weights=uniform;, score=0.852 total time=   0.0s\n",
      "[CV 4/4] END n_neighbors=17, p=2, weights=uniform;, score=0.859 total time=   0.0s\n",
      "[CV 1/4] END n_neighbors=17, p=2, weights=distance;, score=0.869 total time=   0.0s\n",
      "[CV 2/4] END n_neighbors=17, p=2, weights=distance;, score=0.856 total time=   0.0s\n",
      "[CV 3/4] END n_neighbors=17, p=2, weights=distance;, score=0.856 total time=   0.0s\n",
      "[CV 4/4] END n_neighbors=17, p=2, weights=distance;, score=0.862 total time=   0.0s\n",
      "[CV 1/4] END n_neighbors=18, p=1, weights=uniform;, score=0.895 total time=   0.0s\n",
      "[CV 2/4] END n_neighbors=18, p=1, weights=uniform;, score=0.876 total time=   0.0s\n",
      "[CV 3/4] END n_neighbors=18, p=1, weights=uniform;, score=0.872 total time=   0.0s\n",
      "[CV 4/4] END n_neighbors=18, p=1, weights=uniform;, score=0.889 total time=   0.0s\n",
      "[CV 1/4] END n_neighbors=18, p=1, weights=distance;, score=0.905 total time=   0.0s\n",
      "[CV 2/4] END n_neighbors=18, p=1, weights=distance;, score=0.882 total time=   0.0s\n",
      "[CV 3/4] END n_neighbors=18, p=1, weights=distance;, score=0.875 total time=   0.0s\n",
      "[CV 4/4] END n_neighbors=18, p=1, weights=distance;, score=0.898 total time=   0.0s\n",
      "[CV 1/4] END n_neighbors=18, p=2, weights=uniform;, score=0.859 total time=   0.0s\n",
      "[CV 2/4] END n_neighbors=18, p=2, weights=uniform;, score=0.850 total time=   0.0s\n",
      "[CV 3/4] END n_neighbors=18, p=2, weights=uniform;, score=0.849 total time=   0.0s\n",
      "[CV 4/4] END n_neighbors=18, p=2, weights=uniform;, score=0.856 total time=   0.0s\n",
      "[CV 1/4] END n_neighbors=18, p=2, weights=distance;, score=0.866 total time=   0.0s\n",
      "[CV 2/4] END n_neighbors=18, p=2, weights=distance;, score=0.856 total time=   0.0s\n",
      "[CV 3/4] END n_neighbors=18, p=2, weights=distance;, score=0.852 total time=   0.0s\n",
      "[CV 4/4] END n_neighbors=18, p=2, weights=distance;, score=0.866 total time=   0.0s\n",
      "[CV 1/4] END n_neighbors=19, p=1, weights=uniform;, score=0.899 total time=   0.0s\n",
      "[CV 2/4] END n_neighbors=19, p=1, weights=uniform;, score=0.876 total time=   0.0s\n",
      "[CV 3/4] END n_neighbors=19, p=1, weights=uniform;, score=0.879 total time=   0.0s\n",
      "[CV 4/4] END n_neighbors=19, p=1, weights=uniform;, score=0.885 total time=   0.0s\n",
      "[CV 1/4] END n_neighbors=19, p=1, weights=distance;, score=0.908 total time=   0.0s\n",
      "[CV 2/4] END n_neighbors=19, p=1, weights=distance;, score=0.882 total time=   0.0s\n",
      "[CV 3/4] END n_neighbors=19, p=1, weights=distance;, score=0.875 total time=   0.0s\n",
      "[CV 4/4] END n_neighbors=19, p=1, weights=distance;, score=0.898 total time=   0.0s\n",
      "[CV 1/4] END n_neighbors=19, p=2, weights=uniform;, score=0.859 total time=   0.0s\n",
      "[CV 2/4] END n_neighbors=19, p=2, weights=uniform;, score=0.850 total time=   0.0s\n",
      "[CV 3/4] END n_neighbors=19, p=2, weights=uniform;, score=0.849 total time=   0.0s\n",
      "[CV 4/4] END n_neighbors=19, p=2, weights=uniform;, score=0.859 total time=   0.0s\n",
      "[CV 1/4] END n_neighbors=19, p=2, weights=distance;, score=0.869 total time=   0.0s\n",
      "[CV 2/4] END n_neighbors=19, p=2, weights=distance;, score=0.856 total time=   0.0s\n",
      "[CV 3/4] END n_neighbors=19, p=2, weights=distance;, score=0.852 total time=   0.0s\n",
      "[CV 4/4] END n_neighbors=19, p=2, weights=distance;, score=0.859 total time=   0.0s\n"
     ]
    },
    {
     "data": {
      "text/html": [
       "<style>#sk-container-id-1 {color: black;background-color: white;}#sk-container-id-1 pre{padding: 0;}#sk-container-id-1 div.sk-toggleable {background-color: white;}#sk-container-id-1 label.sk-toggleable__label {cursor: pointer;display: block;width: 100%;margin-bottom: 0;padding: 0.3em;box-sizing: border-box;text-align: center;}#sk-container-id-1 label.sk-toggleable__label-arrow:before {content: \"▸\";float: left;margin-right: 0.25em;color: #696969;}#sk-container-id-1 label.sk-toggleable__label-arrow:hover:before {color: black;}#sk-container-id-1 div.sk-estimator:hover label.sk-toggleable__label-arrow:before {color: black;}#sk-container-id-1 div.sk-toggleable__content {max-height: 0;max-width: 0;overflow: hidden;text-align: left;background-color: #f0f8ff;}#sk-container-id-1 div.sk-toggleable__content pre {margin: 0.2em;color: black;border-radius: 0.25em;background-color: #f0f8ff;}#sk-container-id-1 input.sk-toggleable__control:checked~div.sk-toggleable__content {max-height: 200px;max-width: 100%;overflow: auto;}#sk-container-id-1 input.sk-toggleable__control:checked~label.sk-toggleable__label-arrow:before {content: \"▾\";}#sk-container-id-1 div.sk-estimator input.sk-toggleable__control:checked~label.sk-toggleable__label {background-color: #d4ebff;}#sk-container-id-1 div.sk-label input.sk-toggleable__control:checked~label.sk-toggleable__label {background-color: #d4ebff;}#sk-container-id-1 input.sk-hidden--visually {border: 0;clip: rect(1px 1px 1px 1px);clip: rect(1px, 1px, 1px, 1px);height: 1px;margin: -1px;overflow: hidden;padding: 0;position: absolute;width: 1px;}#sk-container-id-1 div.sk-estimator {font-family: monospace;background-color: #f0f8ff;border: 1px dotted black;border-radius: 0.25em;box-sizing: border-box;margin-bottom: 0.5em;}#sk-container-id-1 div.sk-estimator:hover {background-color: #d4ebff;}#sk-container-id-1 div.sk-parallel-item::after {content: \"\";width: 100%;border-bottom: 1px solid gray;flex-grow: 1;}#sk-container-id-1 div.sk-label:hover label.sk-toggleable__label {background-color: #d4ebff;}#sk-container-id-1 div.sk-serial::before {content: \"\";position: absolute;border-left: 1px solid gray;box-sizing: border-box;top: 0;bottom: 0;left: 50%;z-index: 0;}#sk-container-id-1 div.sk-serial {display: flex;flex-direction: column;align-items: center;background-color: white;padding-right: 0.2em;padding-left: 0.2em;position: relative;}#sk-container-id-1 div.sk-item {position: relative;z-index: 1;}#sk-container-id-1 div.sk-parallel {display: flex;align-items: stretch;justify-content: center;background-color: white;position: relative;}#sk-container-id-1 div.sk-item::before, #sk-container-id-1 div.sk-parallel-item::before {content: \"\";position: absolute;border-left: 1px solid gray;box-sizing: border-box;top: 0;bottom: 0;left: 50%;z-index: -1;}#sk-container-id-1 div.sk-parallel-item {display: flex;flex-direction: column;z-index: 1;position: relative;background-color: white;}#sk-container-id-1 div.sk-parallel-item:first-child::after {align-self: flex-end;width: 50%;}#sk-container-id-1 div.sk-parallel-item:last-child::after {align-self: flex-start;width: 50%;}#sk-container-id-1 div.sk-parallel-item:only-child::after {width: 0;}#sk-container-id-1 div.sk-dashed-wrapped {border: 1px dashed gray;margin: 0 0.4em 0.5em 0.4em;box-sizing: border-box;padding-bottom: 0.4em;background-color: white;}#sk-container-id-1 div.sk-label label {font-family: monospace;font-weight: bold;display: inline-block;line-height: 1.2em;}#sk-container-id-1 div.sk-label-container {text-align: center;}#sk-container-id-1 div.sk-container {/* jupyter's `normalize.less` sets `[hidden] { display: none; }` but bootstrap.min.css set `[hidden] { display: none !important; }` so we also need the `!important` here to be able to override the default hidden behavior on the sphinx rendered scikit-learn.org. See: https://github.com/scikit-learn/scikit-learn/issues/21755 */display: inline-block !important;position: relative;}#sk-container-id-1 div.sk-text-repr-fallback {display: none;}</style><div id=\"sk-container-id-1\" class=\"sk-top-container\"><div class=\"sk-text-repr-fallback\"><pre>GridSearchCV(cv=4, estimator=KNeighborsClassifier(),\n",
       "             param_grid={&#x27;n_neighbors&#x27;: range(2, 20), &#x27;p&#x27;: [1, 2],\n",
       "                         &#x27;weights&#x27;: [&#x27;uniform&#x27;, &#x27;distance&#x27;]},\n",
       "             verbose=4)</pre><b>In a Jupyter environment, please rerun this cell to show the HTML representation or trust the notebook. <br />On GitHub, the HTML representation is unable to render, please try loading this page with nbviewer.org.</b></div><div class=\"sk-container\" hidden><div class=\"sk-item sk-dashed-wrapped\"><div class=\"sk-label-container\"><div class=\"sk-label sk-toggleable\"><input class=\"sk-toggleable__control sk-hidden--visually\" id=\"sk-estimator-id-1\" type=\"checkbox\" ><label for=\"sk-estimator-id-1\" class=\"sk-toggleable__label sk-toggleable__label-arrow\">GridSearchCV</label><div class=\"sk-toggleable__content\"><pre>GridSearchCV(cv=4, estimator=KNeighborsClassifier(),\n",
       "             param_grid={&#x27;n_neighbors&#x27;: range(2, 20), &#x27;p&#x27;: [1, 2],\n",
       "                         &#x27;weights&#x27;: [&#x27;uniform&#x27;, &#x27;distance&#x27;]},\n",
       "             verbose=4)</pre></div></div></div><div class=\"sk-parallel\"><div class=\"sk-parallel-item\"><div class=\"sk-item\"><div class=\"sk-label-container\"><div class=\"sk-label sk-toggleable\"><input class=\"sk-toggleable__control sk-hidden--visually\" id=\"sk-estimator-id-2\" type=\"checkbox\" ><label for=\"sk-estimator-id-2\" class=\"sk-toggleable__label sk-toggleable__label-arrow\">estimator: KNeighborsClassifier</label><div class=\"sk-toggleable__content\"><pre>KNeighborsClassifier()</pre></div></div></div><div class=\"sk-serial\"><div class=\"sk-item\"><div class=\"sk-estimator sk-toggleable\"><input class=\"sk-toggleable__control sk-hidden--visually\" id=\"sk-estimator-id-3\" type=\"checkbox\" ><label for=\"sk-estimator-id-3\" class=\"sk-toggleable__label sk-toggleable__label-arrow\">KNeighborsClassifier</label><div class=\"sk-toggleable__content\"><pre>KNeighborsClassifier()</pre></div></div></div></div></div></div></div></div></div></div>"
      ],
      "text/plain": [
       "GridSearchCV(cv=4, estimator=KNeighborsClassifier(),\n",
       "             param_grid={'n_neighbors': range(2, 20), 'p': [1, 2],\n",
       "                         'weights': ['uniform', 'distance']},\n",
       "             verbose=4)"
      ]
     },
     "execution_count": 17,
     "metadata": {},
     "output_type": "execute_result"
    }
   ],
   "source": [
    "estimator.fit(X_train, Y_train)"
   ]
  },
  {
   "cell_type": "code",
   "execution_count": 18,
   "id": "46f2c428",
   "metadata": {},
   "outputs": [
    {
     "data": {
      "text/html": [
       "<style>#sk-container-id-2 {color: black;background-color: white;}#sk-container-id-2 pre{padding: 0;}#sk-container-id-2 div.sk-toggleable {background-color: white;}#sk-container-id-2 label.sk-toggleable__label {cursor: pointer;display: block;width: 100%;margin-bottom: 0;padding: 0.3em;box-sizing: border-box;text-align: center;}#sk-container-id-2 label.sk-toggleable__label-arrow:before {content: \"▸\";float: left;margin-right: 0.25em;color: #696969;}#sk-container-id-2 label.sk-toggleable__label-arrow:hover:before {color: black;}#sk-container-id-2 div.sk-estimator:hover label.sk-toggleable__label-arrow:before {color: black;}#sk-container-id-2 div.sk-toggleable__content {max-height: 0;max-width: 0;overflow: hidden;text-align: left;background-color: #f0f8ff;}#sk-container-id-2 div.sk-toggleable__content pre {margin: 0.2em;color: black;border-radius: 0.25em;background-color: #f0f8ff;}#sk-container-id-2 input.sk-toggleable__control:checked~div.sk-toggleable__content {max-height: 200px;max-width: 100%;overflow: auto;}#sk-container-id-2 input.sk-toggleable__control:checked~label.sk-toggleable__label-arrow:before {content: \"▾\";}#sk-container-id-2 div.sk-estimator input.sk-toggleable__control:checked~label.sk-toggleable__label {background-color: #d4ebff;}#sk-container-id-2 div.sk-label input.sk-toggleable__control:checked~label.sk-toggleable__label {background-color: #d4ebff;}#sk-container-id-2 input.sk-hidden--visually {border: 0;clip: rect(1px 1px 1px 1px);clip: rect(1px, 1px, 1px, 1px);height: 1px;margin: -1px;overflow: hidden;padding: 0;position: absolute;width: 1px;}#sk-container-id-2 div.sk-estimator {font-family: monospace;background-color: #f0f8ff;border: 1px dotted black;border-radius: 0.25em;box-sizing: border-box;margin-bottom: 0.5em;}#sk-container-id-2 div.sk-estimator:hover {background-color: #d4ebff;}#sk-container-id-2 div.sk-parallel-item::after {content: \"\";width: 100%;border-bottom: 1px solid gray;flex-grow: 1;}#sk-container-id-2 div.sk-label:hover label.sk-toggleable__label {background-color: #d4ebff;}#sk-container-id-2 div.sk-serial::before {content: \"\";position: absolute;border-left: 1px solid gray;box-sizing: border-box;top: 0;bottom: 0;left: 50%;z-index: 0;}#sk-container-id-2 div.sk-serial {display: flex;flex-direction: column;align-items: center;background-color: white;padding-right: 0.2em;padding-left: 0.2em;position: relative;}#sk-container-id-2 div.sk-item {position: relative;z-index: 1;}#sk-container-id-2 div.sk-parallel {display: flex;align-items: stretch;justify-content: center;background-color: white;position: relative;}#sk-container-id-2 div.sk-item::before, #sk-container-id-2 div.sk-parallel-item::before {content: \"\";position: absolute;border-left: 1px solid gray;box-sizing: border-box;top: 0;bottom: 0;left: 50%;z-index: -1;}#sk-container-id-2 div.sk-parallel-item {display: flex;flex-direction: column;z-index: 1;position: relative;background-color: white;}#sk-container-id-2 div.sk-parallel-item:first-child::after {align-self: flex-end;width: 50%;}#sk-container-id-2 div.sk-parallel-item:last-child::after {align-self: flex-start;width: 50%;}#sk-container-id-2 div.sk-parallel-item:only-child::after {width: 0;}#sk-container-id-2 div.sk-dashed-wrapped {border: 1px dashed gray;margin: 0 0.4em 0.5em 0.4em;box-sizing: border-box;padding-bottom: 0.4em;background-color: white;}#sk-container-id-2 div.sk-label label {font-family: monospace;font-weight: bold;display: inline-block;line-height: 1.2em;}#sk-container-id-2 div.sk-label-container {text-align: center;}#sk-container-id-2 div.sk-container {/* jupyter's `normalize.less` sets `[hidden] { display: none; }` but bootstrap.min.css set `[hidden] { display: none !important; }` so we also need the `!important` here to be able to override the default hidden behavior on the sphinx rendered scikit-learn.org. See: https://github.com/scikit-learn/scikit-learn/issues/21755 */display: inline-block !important;position: relative;}#sk-container-id-2 div.sk-text-repr-fallback {display: none;}</style><div id=\"sk-container-id-2\" class=\"sk-top-container\"><div class=\"sk-text-repr-fallback\"><pre>KNeighborsClassifier(n_neighbors=6, p=1, weights=&#x27;distance&#x27;)</pre><b>In a Jupyter environment, please rerun this cell to show the HTML representation or trust the notebook. <br />On GitHub, the HTML representation is unable to render, please try loading this page with nbviewer.org.</b></div><div class=\"sk-container\" hidden><div class=\"sk-item\"><div class=\"sk-estimator sk-toggleable\"><input class=\"sk-toggleable__control sk-hidden--visually\" id=\"sk-estimator-id-4\" type=\"checkbox\" checked><label for=\"sk-estimator-id-4\" class=\"sk-toggleable__label sk-toggleable__label-arrow\">KNeighborsClassifier</label><div class=\"sk-toggleable__content\"><pre>KNeighborsClassifier(n_neighbors=6, p=1, weights=&#x27;distance&#x27;)</pre></div></div></div></div></div>"
      ],
      "text/plain": [
       "KNeighborsClassifier(n_neighbors=6, p=1, weights='distance')"
      ]
     },
     "execution_count": 18,
     "metadata": {},
     "output_type": "execute_result"
    }
   ],
   "source": [
    "estimator.best_estimator_"
   ]
  },
  {
   "cell_type": "code",
   "execution_count": 19,
   "id": "3af0d6a7",
   "metadata": {},
   "outputs": [
    {
     "data": {
      "text/plain": [
       "0.9058957462766526"
      ]
     },
     "execution_count": 19,
     "metadata": {},
     "output_type": "execute_result"
    }
   ],
   "source": [
    "estimator.best_score_"
   ]
  },
  {
   "cell_type": "code",
   "execution_count": 20,
   "id": "b1ba5951",
   "metadata": {},
   "outputs": [
    {
     "data": {
      "text/html": [
       "<style>#sk-container-id-3 {color: black;background-color: white;}#sk-container-id-3 pre{padding: 0;}#sk-container-id-3 div.sk-toggleable {background-color: white;}#sk-container-id-3 label.sk-toggleable__label {cursor: pointer;display: block;width: 100%;margin-bottom: 0;padding: 0.3em;box-sizing: border-box;text-align: center;}#sk-container-id-3 label.sk-toggleable__label-arrow:before {content: \"▸\";float: left;margin-right: 0.25em;color: #696969;}#sk-container-id-3 label.sk-toggleable__label-arrow:hover:before {color: black;}#sk-container-id-3 div.sk-estimator:hover label.sk-toggleable__label-arrow:before {color: black;}#sk-container-id-3 div.sk-toggleable__content {max-height: 0;max-width: 0;overflow: hidden;text-align: left;background-color: #f0f8ff;}#sk-container-id-3 div.sk-toggleable__content pre {margin: 0.2em;color: black;border-radius: 0.25em;background-color: #f0f8ff;}#sk-container-id-3 input.sk-toggleable__control:checked~div.sk-toggleable__content {max-height: 200px;max-width: 100%;overflow: auto;}#sk-container-id-3 input.sk-toggleable__control:checked~label.sk-toggleable__label-arrow:before {content: \"▾\";}#sk-container-id-3 div.sk-estimator input.sk-toggleable__control:checked~label.sk-toggleable__label {background-color: #d4ebff;}#sk-container-id-3 div.sk-label input.sk-toggleable__control:checked~label.sk-toggleable__label {background-color: #d4ebff;}#sk-container-id-3 input.sk-hidden--visually {border: 0;clip: rect(1px 1px 1px 1px);clip: rect(1px, 1px, 1px, 1px);height: 1px;margin: -1px;overflow: hidden;padding: 0;position: absolute;width: 1px;}#sk-container-id-3 div.sk-estimator {font-family: monospace;background-color: #f0f8ff;border: 1px dotted black;border-radius: 0.25em;box-sizing: border-box;margin-bottom: 0.5em;}#sk-container-id-3 div.sk-estimator:hover {background-color: #d4ebff;}#sk-container-id-3 div.sk-parallel-item::after {content: \"\";width: 100%;border-bottom: 1px solid gray;flex-grow: 1;}#sk-container-id-3 div.sk-label:hover label.sk-toggleable__label {background-color: #d4ebff;}#sk-container-id-3 div.sk-serial::before {content: \"\";position: absolute;border-left: 1px solid gray;box-sizing: border-box;top: 0;bottom: 0;left: 50%;z-index: 0;}#sk-container-id-3 div.sk-serial {display: flex;flex-direction: column;align-items: center;background-color: white;padding-right: 0.2em;padding-left: 0.2em;position: relative;}#sk-container-id-3 div.sk-item {position: relative;z-index: 1;}#sk-container-id-3 div.sk-parallel {display: flex;align-items: stretch;justify-content: center;background-color: white;position: relative;}#sk-container-id-3 div.sk-item::before, #sk-container-id-3 div.sk-parallel-item::before {content: \"\";position: absolute;border-left: 1px solid gray;box-sizing: border-box;top: 0;bottom: 0;left: 50%;z-index: -1;}#sk-container-id-3 div.sk-parallel-item {display: flex;flex-direction: column;z-index: 1;position: relative;background-color: white;}#sk-container-id-3 div.sk-parallel-item:first-child::after {align-self: flex-end;width: 50%;}#sk-container-id-3 div.sk-parallel-item:last-child::after {align-self: flex-start;width: 50%;}#sk-container-id-3 div.sk-parallel-item:only-child::after {width: 0;}#sk-container-id-3 div.sk-dashed-wrapped {border: 1px dashed gray;margin: 0 0.4em 0.5em 0.4em;box-sizing: border-box;padding-bottom: 0.4em;background-color: white;}#sk-container-id-3 div.sk-label label {font-family: monospace;font-weight: bold;display: inline-block;line-height: 1.2em;}#sk-container-id-3 div.sk-label-container {text-align: center;}#sk-container-id-3 div.sk-container {/* jupyter's `normalize.less` sets `[hidden] { display: none; }` but bootstrap.min.css set `[hidden] { display: none !important; }` so we also need the `!important` here to be able to override the default hidden behavior on the sphinx rendered scikit-learn.org. See: https://github.com/scikit-learn/scikit-learn/issues/21755 */display: inline-block !important;position: relative;}#sk-container-id-3 div.sk-text-repr-fallback {display: none;}</style><div id=\"sk-container-id-3\" class=\"sk-top-container\"><div class=\"sk-text-repr-fallback\"><pre>KNeighborsClassifier(n_neighbors=6, p=1, weights=&#x27;distance&#x27;)</pre><b>In a Jupyter environment, please rerun this cell to show the HTML representation or trust the notebook. <br />On GitHub, the HTML representation is unable to render, please try loading this page with nbviewer.org.</b></div><div class=\"sk-container\" hidden><div class=\"sk-item\"><div class=\"sk-estimator sk-toggleable\"><input class=\"sk-toggleable__control sk-hidden--visually\" id=\"sk-estimator-id-5\" type=\"checkbox\" checked><label for=\"sk-estimator-id-5\" class=\"sk-toggleable__label sk-toggleable__label-arrow\">KNeighborsClassifier</label><div class=\"sk-toggleable__content\"><pre>KNeighborsClassifier(n_neighbors=6, p=1, weights=&#x27;distance&#x27;)</pre></div></div></div></div></div>"
      ],
      "text/plain": [
       "KNeighborsClassifier(n_neighbors=6, p=1, weights='distance')"
      ]
     },
     "execution_count": 20,
     "metadata": {},
     "output_type": "execute_result"
    }
   ],
   "source": [
    "model = KNeighborsClassifier(n_neighbors=6, weights='distance', p = 1)\n",
    "model.fit(X_train, Y_train)"
   ]
  },
  {
   "cell_type": "code",
   "execution_count": 21,
   "id": "be3260d1",
   "metadata": {},
   "outputs": [
    {
     "name": "stdout",
     "output_type": "stream",
     "text": [
      "Confusion matrix:\n",
      "[[  67    0    0    0    0    0]\n",
      " [   0   10    0    0    0    0]\n",
      " [   0    0 1032    0    0    0]\n",
      " [   0    0    0    5    0    0]\n",
      " [   0    0    0    0  104    0]\n",
      " [   0    0    0    0    0    4]]\n",
      "Accuracy: 1.0\n",
      "Precision: 1.0\n",
      "Recall: 1.0\n",
      "F1 score: 1.0\n"
     ]
    }
   ],
   "source": [
    "Y_train_pred = model.predict(X_train)\n",
    "knn_report(Y_train, Y_train_pred)"
   ]
  },
  {
   "cell_type": "code",
   "execution_count": 22,
   "id": "2b1a9ca8",
   "metadata": {},
   "outputs": [
    {
     "name": "stdout",
     "output_type": "stream",
     "text": [
      "Confusion matrix:\n",
      "[[  7   0  22   0   0   0]\n",
      " [  0   0   4   0   0   0]\n",
      " [  4   0 438   0   2   0]\n",
      " [  0   0   1   0   1   0]\n",
      " [  0   0  18   0  27   0]\n",
      " [  0   0   0   0   1   0]]\n",
      "Accuracy: 0.8990476190476191\n",
      "Precision: 0.8990476190476191\n",
      "Recall: 0.8990476190476191\n",
      "F1 score: 0.8990476190476191\n"
     ]
    }
   ],
   "source": [
    "Y_test_pred = model.predict(X_test)\n",
    "knn_report(Y_test, Y_test_pred)"
   ]
  },
  {
   "cell_type": "code",
   "execution_count": 23,
   "id": "e4df8589",
   "metadata": {},
   "outputs": [
    {
     "name": "stdout",
     "output_type": "stream",
     "text": [
      "Confusion matrix:\n",
      "[[  22    0   45    0    0    0]\n",
      " [   0    0    9    0    1    0]\n",
      " [   0    0 1026    0    6    0]\n",
      " [   0    0    2    0    3    0]\n",
      " [   0    0   32    0   72    0]\n",
      " [   0    0    2    0    2    0]]\n",
      "Accuracy: 0.9165302782324058\n",
      "Precision: 0.9165302782324058\n",
      "Recall: 0.9165302782324058\n",
      "F1 score: 0.9165302782324058\n",
      "---------------------------------\n",
      "Confusion matrix:\n",
      "[[  3   0  26   0   0   0]\n",
      " [  0   0   4   0   0   0]\n",
      " [  3   0 437   0   4   0]\n",
      " [  0   0   1   0   1   0]\n",
      " [  0   0  29   0  16   0]\n",
      " [  0   0   0   0   1   0]]\n",
      "Accuracy: 0.8685714285714285\n",
      "Precision: 0.8685714285714285\n",
      "Recall: 0.8685714285714285\n",
      "F1 score: 0.8685714285714285\n"
     ]
    }
   ],
   "source": [
    "baggingKnn = BaggingClassifier(estimator=KNeighborsClassifier(), n_estimators=20)\n",
    "baggingKnn.fit(X_train, Y_train)\n",
    "Y_train_pred = baggingKnn.predict(X_train)\n",
    "Y_test_pred = baggingKnn.predict(X_test)\n",
    "knn_report(Y_train, Y_train_pred)\n",
    "print(\"---------------------------------\")\n",
    "knn_report(Y_test, Y_test_pred)"
   ]
  },
  {
   "cell_type": "code",
   "execution_count": 24,
   "id": "86d3a519",
   "metadata": {},
   "outputs": [
    {
     "name": "stdout",
     "output_type": "stream",
     "text": [
      "\u001b[32mNumber of instances before resampling with SMOTEENN: dict_items([('APO*', 1032), ('AMO*', 67), ('ATE*', 104), ('APO', 10), ('IEO*', 4), ('ATE', 5)]). \u001b[0m\n",
      "\u001b[34mNumber of instances after resampling with SMOTEENN: dict_items([('AMO*', 1029), ('APO', 1032), ('APO*', 802), ('ATE', 1032), ('ATE*', 1032), ('IEO*', 1032)]). \u001b[0m\n"
     ]
    }
   ],
   "source": [
    "smoteenn = SMOTEENN(random_state=42, sampling_strategy='auto', smote=SMOTE(sampling_strategy='auto', k_neighbors=1))\n",
    "X_train_resampled, y_train_resampled = smoteenn.fit_resample(X_train, Y_train)\n",
    "\n",
    "print(colored(\"Number of instances before resampling with SMOTEENN: {}. \".format(Counter(Y_train).items()), \"green\"))\n",
    "print(colored(\"Number of instances after resampling with SMOTEENN: {}. \".format(Counter(y_train_resampled).items()), \"blue\"))"
   ]
  },
  {
   "cell_type": "code",
   "execution_count": 25,
   "id": "2d576898",
   "metadata": {},
   "outputs": [],
   "source": [
    "params = {\n",
    "    'n_neighbors' : range(2,5),\n",
    "    'weights' : ['uniform', 'distance'],\n",
    "    'p' : [1,2]\n",
    "}"
   ]
  },
  {
   "cell_type": "code",
   "execution_count": 26,
   "id": "54832b9d",
   "metadata": {},
   "outputs": [
    {
     "name": "stdout",
     "output_type": "stream",
     "text": [
      "Fitting 4 folds for each of 12 candidates, totalling 48 fits\n",
      "[CV 1/4] END n_neighbors=2, p=1, weights=uniform;, score=0.991 total time=   0.1s\n",
      "[CV 2/4] END n_neighbors=2, p=1, weights=uniform;, score=0.992 total time=   0.1s\n",
      "[CV 3/4] END n_neighbors=2, p=1, weights=uniform;, score=0.992 total time=   0.1s\n",
      "[CV 4/4] END n_neighbors=2, p=1, weights=uniform;, score=0.988 total time=   0.1s\n",
      "[CV 1/4] END n_neighbors=2, p=1, weights=distance;, score=0.995 total time=   0.1s\n",
      "[CV 2/4] END n_neighbors=2, p=1, weights=distance;, score=0.998 total time=   0.1s\n",
      "[CV 3/4] END n_neighbors=2, p=1, weights=distance;, score=0.996 total time=   0.1s\n",
      "[CV 4/4] END n_neighbors=2, p=1, weights=distance;, score=0.998 total time=   0.1s\n",
      "[CV 1/4] END n_neighbors=2, p=2, weights=uniform;, score=0.994 total time=   0.1s\n",
      "[CV 2/4] END n_neighbors=2, p=2, weights=uniform;, score=0.993 total time=   0.1s\n",
      "[CV 3/4] END n_neighbors=2, p=2, weights=uniform;, score=0.996 total time=   0.1s\n",
      "[CV 4/4] END n_neighbors=2, p=2, weights=uniform;, score=0.996 total time=   0.1s\n",
      "[CV 1/4] END n_neighbors=2, p=2, weights=distance;, score=0.999 total time=   0.0s\n",
      "[CV 2/4] END n_neighbors=2, p=2, weights=distance;, score=0.999 total time=   0.0s\n",
      "[CV 3/4] END n_neighbors=2, p=2, weights=distance;, score=1.000 total time=   0.0s\n",
      "[CV 4/4] END n_neighbors=2, p=2, weights=distance;, score=0.999 total time=   0.0s\n",
      "[CV 1/4] END n_neighbors=3, p=1, weights=uniform;, score=0.989 total time=   0.1s\n",
      "[CV 2/4] END n_neighbors=3, p=1, weights=uniform;, score=0.992 total time=   0.1s\n",
      "[CV 3/4] END n_neighbors=3, p=1, weights=uniform;, score=0.992 total time=   0.1s\n",
      "[CV 4/4] END n_neighbors=3, p=1, weights=uniform;, score=0.986 total time=   0.1s\n",
      "[CV 1/4] END n_neighbors=3, p=1, weights=distance;, score=0.989 total time=   0.1s\n",
      "[CV 2/4] END n_neighbors=3, p=1, weights=distance;, score=0.992 total time=   0.1s\n",
      "[CV 3/4] END n_neighbors=3, p=1, weights=distance;, score=0.992 total time=   0.1s\n",
      "[CV 4/4] END n_neighbors=3, p=1, weights=distance;, score=0.987 total time=   0.1s\n",
      "[CV 1/4] END n_neighbors=3, p=2, weights=uniform;, score=0.993 total time=   0.1s\n",
      "[CV 2/4] END n_neighbors=3, p=2, weights=uniform;, score=0.992 total time=   0.1s\n",
      "[CV 3/4] END n_neighbors=3, p=2, weights=uniform;, score=0.996 total time=   0.1s\n",
      "[CV 4/4] END n_neighbors=3, p=2, weights=uniform;, score=0.993 total time=   0.1s\n",
      "[CV 1/4] END n_neighbors=3, p=2, weights=distance;, score=0.993 total time=   0.0s\n",
      "[CV 2/4] END n_neighbors=3, p=2, weights=distance;, score=0.992 total time=   0.0s\n",
      "[CV 3/4] END n_neighbors=3, p=2, weights=distance;, score=0.996 total time=   0.0s\n",
      "[CV 4/4] END n_neighbors=3, p=2, weights=distance;, score=0.993 total time=   0.0s\n",
      "[CV 1/4] END n_neighbors=4, p=1, weights=uniform;, score=0.982 total time=   0.1s\n",
      "[CV 2/4] END n_neighbors=4, p=1, weights=uniform;, score=0.987 total time=   0.1s\n",
      "[CV 3/4] END n_neighbors=4, p=1, weights=uniform;, score=0.986 total time=   0.1s\n",
      "[CV 4/4] END n_neighbors=4, p=1, weights=uniform;, score=0.983 total time=   0.1s\n",
      "[CV 1/4] END n_neighbors=4, p=1, weights=distance;, score=0.989 total time=   0.1s\n",
      "[CV 2/4] END n_neighbors=4, p=1, weights=distance;, score=0.993 total time=   0.1s\n",
      "[CV 3/4] END n_neighbors=4, p=1, weights=distance;, score=0.993 total time=   0.1s\n",
      "[CV 4/4] END n_neighbors=4, p=1, weights=distance;, score=0.989 total time=   0.1s\n",
      "[CV 1/4] END n_neighbors=4, p=2, weights=uniform;, score=0.988 total time=   0.1s\n",
      "[CV 2/4] END n_neighbors=4, p=2, weights=uniform;, score=0.986 total time=   0.1s\n",
      "[CV 3/4] END n_neighbors=4, p=2, weights=uniform;, score=0.989 total time=   0.1s\n",
      "[CV 4/4] END n_neighbors=4, p=2, weights=uniform;, score=0.983 total time=   0.1s\n",
      "[CV 1/4] END n_neighbors=4, p=2, weights=distance;, score=0.994 total time=   0.0s\n",
      "[CV 2/4] END n_neighbors=4, p=2, weights=distance;, score=0.993 total time=   0.0s\n",
      "[CV 3/4] END n_neighbors=4, p=2, weights=distance;, score=0.997 total time=   0.0s\n",
      "[CV 4/4] END n_neighbors=4, p=2, weights=distance;, score=0.994 total time=   0.0s\n"
     ]
    },
    {
     "data": {
      "text/html": [
       "<style>#sk-container-id-4 {color: black;background-color: white;}#sk-container-id-4 pre{padding: 0;}#sk-container-id-4 div.sk-toggleable {background-color: white;}#sk-container-id-4 label.sk-toggleable__label {cursor: pointer;display: block;width: 100%;margin-bottom: 0;padding: 0.3em;box-sizing: border-box;text-align: center;}#sk-container-id-4 label.sk-toggleable__label-arrow:before {content: \"▸\";float: left;margin-right: 0.25em;color: #696969;}#sk-container-id-4 label.sk-toggleable__label-arrow:hover:before {color: black;}#sk-container-id-4 div.sk-estimator:hover label.sk-toggleable__label-arrow:before {color: black;}#sk-container-id-4 div.sk-toggleable__content {max-height: 0;max-width: 0;overflow: hidden;text-align: left;background-color: #f0f8ff;}#sk-container-id-4 div.sk-toggleable__content pre {margin: 0.2em;color: black;border-radius: 0.25em;background-color: #f0f8ff;}#sk-container-id-4 input.sk-toggleable__control:checked~div.sk-toggleable__content {max-height: 200px;max-width: 100%;overflow: auto;}#sk-container-id-4 input.sk-toggleable__control:checked~label.sk-toggleable__label-arrow:before {content: \"▾\";}#sk-container-id-4 div.sk-estimator input.sk-toggleable__control:checked~label.sk-toggleable__label {background-color: #d4ebff;}#sk-container-id-4 div.sk-label input.sk-toggleable__control:checked~label.sk-toggleable__label {background-color: #d4ebff;}#sk-container-id-4 input.sk-hidden--visually {border: 0;clip: rect(1px 1px 1px 1px);clip: rect(1px, 1px, 1px, 1px);height: 1px;margin: -1px;overflow: hidden;padding: 0;position: absolute;width: 1px;}#sk-container-id-4 div.sk-estimator {font-family: monospace;background-color: #f0f8ff;border: 1px dotted black;border-radius: 0.25em;box-sizing: border-box;margin-bottom: 0.5em;}#sk-container-id-4 div.sk-estimator:hover {background-color: #d4ebff;}#sk-container-id-4 div.sk-parallel-item::after {content: \"\";width: 100%;border-bottom: 1px solid gray;flex-grow: 1;}#sk-container-id-4 div.sk-label:hover label.sk-toggleable__label {background-color: #d4ebff;}#sk-container-id-4 div.sk-serial::before {content: \"\";position: absolute;border-left: 1px solid gray;box-sizing: border-box;top: 0;bottom: 0;left: 50%;z-index: 0;}#sk-container-id-4 div.sk-serial {display: flex;flex-direction: column;align-items: center;background-color: white;padding-right: 0.2em;padding-left: 0.2em;position: relative;}#sk-container-id-4 div.sk-item {position: relative;z-index: 1;}#sk-container-id-4 div.sk-parallel {display: flex;align-items: stretch;justify-content: center;background-color: white;position: relative;}#sk-container-id-4 div.sk-item::before, #sk-container-id-4 div.sk-parallel-item::before {content: \"\";position: absolute;border-left: 1px solid gray;box-sizing: border-box;top: 0;bottom: 0;left: 50%;z-index: -1;}#sk-container-id-4 div.sk-parallel-item {display: flex;flex-direction: column;z-index: 1;position: relative;background-color: white;}#sk-container-id-4 div.sk-parallel-item:first-child::after {align-self: flex-end;width: 50%;}#sk-container-id-4 div.sk-parallel-item:last-child::after {align-self: flex-start;width: 50%;}#sk-container-id-4 div.sk-parallel-item:only-child::after {width: 0;}#sk-container-id-4 div.sk-dashed-wrapped {border: 1px dashed gray;margin: 0 0.4em 0.5em 0.4em;box-sizing: border-box;padding-bottom: 0.4em;background-color: white;}#sk-container-id-4 div.sk-label label {font-family: monospace;font-weight: bold;display: inline-block;line-height: 1.2em;}#sk-container-id-4 div.sk-label-container {text-align: center;}#sk-container-id-4 div.sk-container {/* jupyter's `normalize.less` sets `[hidden] { display: none; }` but bootstrap.min.css set `[hidden] { display: none !important; }` so we also need the `!important` here to be able to override the default hidden behavior on the sphinx rendered scikit-learn.org. See: https://github.com/scikit-learn/scikit-learn/issues/21755 */display: inline-block !important;position: relative;}#sk-container-id-4 div.sk-text-repr-fallback {display: none;}</style><div id=\"sk-container-id-4\" class=\"sk-top-container\"><div class=\"sk-text-repr-fallback\"><pre>GridSearchCV(cv=4, estimator=KNeighborsClassifier(),\n",
       "             param_grid={&#x27;n_neighbors&#x27;: range(2, 5), &#x27;p&#x27;: [1, 2],\n",
       "                         &#x27;weights&#x27;: [&#x27;uniform&#x27;, &#x27;distance&#x27;]},\n",
       "             verbose=4)</pre><b>In a Jupyter environment, please rerun this cell to show the HTML representation or trust the notebook. <br />On GitHub, the HTML representation is unable to render, please try loading this page with nbviewer.org.</b></div><div class=\"sk-container\" hidden><div class=\"sk-item sk-dashed-wrapped\"><div class=\"sk-label-container\"><div class=\"sk-label sk-toggleable\"><input class=\"sk-toggleable__control sk-hidden--visually\" id=\"sk-estimator-id-6\" type=\"checkbox\" ><label for=\"sk-estimator-id-6\" class=\"sk-toggleable__label sk-toggleable__label-arrow\">GridSearchCV</label><div class=\"sk-toggleable__content\"><pre>GridSearchCV(cv=4, estimator=KNeighborsClassifier(),\n",
       "             param_grid={&#x27;n_neighbors&#x27;: range(2, 5), &#x27;p&#x27;: [1, 2],\n",
       "                         &#x27;weights&#x27;: [&#x27;uniform&#x27;, &#x27;distance&#x27;]},\n",
       "             verbose=4)</pre></div></div></div><div class=\"sk-parallel\"><div class=\"sk-parallel-item\"><div class=\"sk-item\"><div class=\"sk-label-container\"><div class=\"sk-label sk-toggleable\"><input class=\"sk-toggleable__control sk-hidden--visually\" id=\"sk-estimator-id-7\" type=\"checkbox\" ><label for=\"sk-estimator-id-7\" class=\"sk-toggleable__label sk-toggleable__label-arrow\">estimator: KNeighborsClassifier</label><div class=\"sk-toggleable__content\"><pre>KNeighborsClassifier()</pre></div></div></div><div class=\"sk-serial\"><div class=\"sk-item\"><div class=\"sk-estimator sk-toggleable\"><input class=\"sk-toggleable__control sk-hidden--visually\" id=\"sk-estimator-id-8\" type=\"checkbox\" ><label for=\"sk-estimator-id-8\" class=\"sk-toggleable__label sk-toggleable__label-arrow\">KNeighborsClassifier</label><div class=\"sk-toggleable__content\"><pre>KNeighborsClassifier()</pre></div></div></div></div></div></div></div></div></div></div>"
      ],
      "text/plain": [
       "GridSearchCV(cv=4, estimator=KNeighborsClassifier(),\n",
       "             param_grid={'n_neighbors': range(2, 5), 'p': [1, 2],\n",
       "                         'weights': ['uniform', 'distance']},\n",
       "             verbose=4)"
      ]
     },
     "execution_count": 26,
     "metadata": {},
     "output_type": "execute_result"
    }
   ],
   "source": [
    "estimator = GridSearchCV(KNeighborsClassifier(), params, cv = 4, verbose = 4)\n",
    "estimator.fit(X_train_resampled, y_train_resampled)"
   ]
  },
  {
   "cell_type": "code",
   "execution_count": 27,
   "id": "bf836d64",
   "metadata": {},
   "outputs": [
    {
     "data": {
      "text/html": [
       "<style>#sk-container-id-5 {color: black;background-color: white;}#sk-container-id-5 pre{padding: 0;}#sk-container-id-5 div.sk-toggleable {background-color: white;}#sk-container-id-5 label.sk-toggleable__label {cursor: pointer;display: block;width: 100%;margin-bottom: 0;padding: 0.3em;box-sizing: border-box;text-align: center;}#sk-container-id-5 label.sk-toggleable__label-arrow:before {content: \"▸\";float: left;margin-right: 0.25em;color: #696969;}#sk-container-id-5 label.sk-toggleable__label-arrow:hover:before {color: black;}#sk-container-id-5 div.sk-estimator:hover label.sk-toggleable__label-arrow:before {color: black;}#sk-container-id-5 div.sk-toggleable__content {max-height: 0;max-width: 0;overflow: hidden;text-align: left;background-color: #f0f8ff;}#sk-container-id-5 div.sk-toggleable__content pre {margin: 0.2em;color: black;border-radius: 0.25em;background-color: #f0f8ff;}#sk-container-id-5 input.sk-toggleable__control:checked~div.sk-toggleable__content {max-height: 200px;max-width: 100%;overflow: auto;}#sk-container-id-5 input.sk-toggleable__control:checked~label.sk-toggleable__label-arrow:before {content: \"▾\";}#sk-container-id-5 div.sk-estimator input.sk-toggleable__control:checked~label.sk-toggleable__label {background-color: #d4ebff;}#sk-container-id-5 div.sk-label input.sk-toggleable__control:checked~label.sk-toggleable__label {background-color: #d4ebff;}#sk-container-id-5 input.sk-hidden--visually {border: 0;clip: rect(1px 1px 1px 1px);clip: rect(1px, 1px, 1px, 1px);height: 1px;margin: -1px;overflow: hidden;padding: 0;position: absolute;width: 1px;}#sk-container-id-5 div.sk-estimator {font-family: monospace;background-color: #f0f8ff;border: 1px dotted black;border-radius: 0.25em;box-sizing: border-box;margin-bottom: 0.5em;}#sk-container-id-5 div.sk-estimator:hover {background-color: #d4ebff;}#sk-container-id-5 div.sk-parallel-item::after {content: \"\";width: 100%;border-bottom: 1px solid gray;flex-grow: 1;}#sk-container-id-5 div.sk-label:hover label.sk-toggleable__label {background-color: #d4ebff;}#sk-container-id-5 div.sk-serial::before {content: \"\";position: absolute;border-left: 1px solid gray;box-sizing: border-box;top: 0;bottom: 0;left: 50%;z-index: 0;}#sk-container-id-5 div.sk-serial {display: flex;flex-direction: column;align-items: center;background-color: white;padding-right: 0.2em;padding-left: 0.2em;position: relative;}#sk-container-id-5 div.sk-item {position: relative;z-index: 1;}#sk-container-id-5 div.sk-parallel {display: flex;align-items: stretch;justify-content: center;background-color: white;position: relative;}#sk-container-id-5 div.sk-item::before, #sk-container-id-5 div.sk-parallel-item::before {content: \"\";position: absolute;border-left: 1px solid gray;box-sizing: border-box;top: 0;bottom: 0;left: 50%;z-index: -1;}#sk-container-id-5 div.sk-parallel-item {display: flex;flex-direction: column;z-index: 1;position: relative;background-color: white;}#sk-container-id-5 div.sk-parallel-item:first-child::after {align-self: flex-end;width: 50%;}#sk-container-id-5 div.sk-parallel-item:last-child::after {align-self: flex-start;width: 50%;}#sk-container-id-5 div.sk-parallel-item:only-child::after {width: 0;}#sk-container-id-5 div.sk-dashed-wrapped {border: 1px dashed gray;margin: 0 0.4em 0.5em 0.4em;box-sizing: border-box;padding-bottom: 0.4em;background-color: white;}#sk-container-id-5 div.sk-label label {font-family: monospace;font-weight: bold;display: inline-block;line-height: 1.2em;}#sk-container-id-5 div.sk-label-container {text-align: center;}#sk-container-id-5 div.sk-container {/* jupyter's `normalize.less` sets `[hidden] { display: none; }` but bootstrap.min.css set `[hidden] { display: none !important; }` so we also need the `!important` here to be able to override the default hidden behavior on the sphinx rendered scikit-learn.org. See: https://github.com/scikit-learn/scikit-learn/issues/21755 */display: inline-block !important;position: relative;}#sk-container-id-5 div.sk-text-repr-fallback {display: none;}</style><div id=\"sk-container-id-5\" class=\"sk-top-container\"><div class=\"sk-text-repr-fallback\"><pre>KNeighborsClassifier(n_neighbors=2, weights=&#x27;distance&#x27;)</pre><b>In a Jupyter environment, please rerun this cell to show the HTML representation or trust the notebook. <br />On GitHub, the HTML representation is unable to render, please try loading this page with nbviewer.org.</b></div><div class=\"sk-container\" hidden><div class=\"sk-item\"><div class=\"sk-estimator sk-toggleable\"><input class=\"sk-toggleable__control sk-hidden--visually\" id=\"sk-estimator-id-9\" type=\"checkbox\" checked><label for=\"sk-estimator-id-9\" class=\"sk-toggleable__label sk-toggleable__label-arrow\">KNeighborsClassifier</label><div class=\"sk-toggleable__content\"><pre>KNeighborsClassifier(n_neighbors=2, weights=&#x27;distance&#x27;)</pre></div></div></div></div></div>"
      ],
      "text/plain": [
       "KNeighborsClassifier(n_neighbors=2, weights='distance')"
      ]
     },
     "execution_count": 27,
     "metadata": {},
     "output_type": "execute_result"
    }
   ],
   "source": [
    "estimator.best_estimator_"
   ]
  },
  {
   "cell_type": "code",
   "execution_count": 28,
   "id": "f32fa01c",
   "metadata": {},
   "outputs": [
    {
     "data": {
      "text/plain": [
       "0.9993287463772362"
      ]
     },
     "execution_count": 28,
     "metadata": {},
     "output_type": "execute_result"
    }
   ],
   "source": [
    "estimator.best_score_"
   ]
  },
  {
   "cell_type": "code",
   "execution_count": 29,
   "id": "50049626",
   "metadata": {},
   "outputs": [
    {
     "data": {
      "text/html": [
       "<style>#sk-container-id-6 {color: black;background-color: white;}#sk-container-id-6 pre{padding: 0;}#sk-container-id-6 div.sk-toggleable {background-color: white;}#sk-container-id-6 label.sk-toggleable__label {cursor: pointer;display: block;width: 100%;margin-bottom: 0;padding: 0.3em;box-sizing: border-box;text-align: center;}#sk-container-id-6 label.sk-toggleable__label-arrow:before {content: \"▸\";float: left;margin-right: 0.25em;color: #696969;}#sk-container-id-6 label.sk-toggleable__label-arrow:hover:before {color: black;}#sk-container-id-6 div.sk-estimator:hover label.sk-toggleable__label-arrow:before {color: black;}#sk-container-id-6 div.sk-toggleable__content {max-height: 0;max-width: 0;overflow: hidden;text-align: left;background-color: #f0f8ff;}#sk-container-id-6 div.sk-toggleable__content pre {margin: 0.2em;color: black;border-radius: 0.25em;background-color: #f0f8ff;}#sk-container-id-6 input.sk-toggleable__control:checked~div.sk-toggleable__content {max-height: 200px;max-width: 100%;overflow: auto;}#sk-container-id-6 input.sk-toggleable__control:checked~label.sk-toggleable__label-arrow:before {content: \"▾\";}#sk-container-id-6 div.sk-estimator input.sk-toggleable__control:checked~label.sk-toggleable__label {background-color: #d4ebff;}#sk-container-id-6 div.sk-label input.sk-toggleable__control:checked~label.sk-toggleable__label {background-color: #d4ebff;}#sk-container-id-6 input.sk-hidden--visually {border: 0;clip: rect(1px 1px 1px 1px);clip: rect(1px, 1px, 1px, 1px);height: 1px;margin: -1px;overflow: hidden;padding: 0;position: absolute;width: 1px;}#sk-container-id-6 div.sk-estimator {font-family: monospace;background-color: #f0f8ff;border: 1px dotted black;border-radius: 0.25em;box-sizing: border-box;margin-bottom: 0.5em;}#sk-container-id-6 div.sk-estimator:hover {background-color: #d4ebff;}#sk-container-id-6 div.sk-parallel-item::after {content: \"\";width: 100%;border-bottom: 1px solid gray;flex-grow: 1;}#sk-container-id-6 div.sk-label:hover label.sk-toggleable__label {background-color: #d4ebff;}#sk-container-id-6 div.sk-serial::before {content: \"\";position: absolute;border-left: 1px solid gray;box-sizing: border-box;top: 0;bottom: 0;left: 50%;z-index: 0;}#sk-container-id-6 div.sk-serial {display: flex;flex-direction: column;align-items: center;background-color: white;padding-right: 0.2em;padding-left: 0.2em;position: relative;}#sk-container-id-6 div.sk-item {position: relative;z-index: 1;}#sk-container-id-6 div.sk-parallel {display: flex;align-items: stretch;justify-content: center;background-color: white;position: relative;}#sk-container-id-6 div.sk-item::before, #sk-container-id-6 div.sk-parallel-item::before {content: \"\";position: absolute;border-left: 1px solid gray;box-sizing: border-box;top: 0;bottom: 0;left: 50%;z-index: -1;}#sk-container-id-6 div.sk-parallel-item {display: flex;flex-direction: column;z-index: 1;position: relative;background-color: white;}#sk-container-id-6 div.sk-parallel-item:first-child::after {align-self: flex-end;width: 50%;}#sk-container-id-6 div.sk-parallel-item:last-child::after {align-self: flex-start;width: 50%;}#sk-container-id-6 div.sk-parallel-item:only-child::after {width: 0;}#sk-container-id-6 div.sk-dashed-wrapped {border: 1px dashed gray;margin: 0 0.4em 0.5em 0.4em;box-sizing: border-box;padding-bottom: 0.4em;background-color: white;}#sk-container-id-6 div.sk-label label {font-family: monospace;font-weight: bold;display: inline-block;line-height: 1.2em;}#sk-container-id-6 div.sk-label-container {text-align: center;}#sk-container-id-6 div.sk-container {/* jupyter's `normalize.less` sets `[hidden] { display: none; }` but bootstrap.min.css set `[hidden] { display: none !important; }` so we also need the `!important` here to be able to override the default hidden behavior on the sphinx rendered scikit-learn.org. See: https://github.com/scikit-learn/scikit-learn/issues/21755 */display: inline-block !important;position: relative;}#sk-container-id-6 div.sk-text-repr-fallback {display: none;}</style><div id=\"sk-container-id-6\" class=\"sk-top-container\"><div class=\"sk-text-repr-fallback\"><pre>KNeighborsClassifier(n_neighbors=2, weights=&#x27;distance&#x27;)</pre><b>In a Jupyter environment, please rerun this cell to show the HTML representation or trust the notebook. <br />On GitHub, the HTML representation is unable to render, please try loading this page with nbviewer.org.</b></div><div class=\"sk-container\" hidden><div class=\"sk-item\"><div class=\"sk-estimator sk-toggleable\"><input class=\"sk-toggleable__control sk-hidden--visually\" id=\"sk-estimator-id-10\" type=\"checkbox\" checked><label for=\"sk-estimator-id-10\" class=\"sk-toggleable__label sk-toggleable__label-arrow\">KNeighborsClassifier</label><div class=\"sk-toggleable__content\"><pre>KNeighborsClassifier(n_neighbors=2, weights=&#x27;distance&#x27;)</pre></div></div></div></div></div>"
      ],
      "text/plain": [
       "KNeighborsClassifier(n_neighbors=2, weights='distance')"
      ]
     },
     "execution_count": 29,
     "metadata": {},
     "output_type": "execute_result"
    }
   ],
   "source": [
    "model = KNeighborsClassifier(n_neighbors=2, weights='distance')\n",
    "model.fit(X_train_resampled, y_train_resampled)"
   ]
  },
  {
   "cell_type": "code",
   "execution_count": 30,
   "id": "3b79468d",
   "metadata": {},
   "outputs": [
    {
     "name": "stdout",
     "output_type": "stream",
     "text": [
      "Confusion matrix:\n",
      "[[1029    0    0    0    0    0]\n",
      " [   0 1032    0    0    0    0]\n",
      " [   0    0  802    0    0    0]\n",
      " [   0    0    0 1032    0    0]\n",
      " [   0    0    0    0 1032    0]\n",
      " [   0    0    0    0    0 1032]]\n",
      "Accuracy: 1.0\n",
      "Precision: 1.0\n",
      "Recall: 1.0\n",
      "F1 score: 1.0\n"
     ]
    }
   ],
   "source": [
    "y_train_resampled_pred = model.predict(X_train_resampled)\n",
    "knn_report(y_train_resampled, y_train_resampled_pred)"
   ]
  },
  {
   "cell_type": "code",
   "execution_count": 31,
   "id": "04eca1ef",
   "metadata": {},
   "outputs": [
    {
     "name": "stdout",
     "output_type": "stream",
     "text": [
      "Confusion matrix:\n",
      "[[ 12   0  16   0   1   0]\n",
      " [  0   0   4   0   0   0]\n",
      " [ 31   7 390   1  15   0]\n",
      " [  0   0   1   0   1   0]\n",
      " [  0   0  13   3  26   3]\n",
      " [  0   0   0   0   0   1]]\n",
      "Accuracy: 0.8171428571428572\n",
      "Precision: 0.8171428571428572\n",
      "Recall: 0.8171428571428572\n",
      "F1 score: 0.8171428571428572\n"
     ]
    }
   ],
   "source": [
    "Y_test_pred = model.predict(X_test)\n",
    "knn_report(Y_test, Y_test_pred)"
   ]
  },
  {
   "cell_type": "code",
   "execution_count": 32,
   "id": "cdaf1ee8",
   "metadata": {},
   "outputs": [],
   "source": [
    "#preprilagodio se model"
   ]
  },
  {
   "cell_type": "code",
   "execution_count": null,
   "id": "e984b303",
   "metadata": {},
   "outputs": [],
   "source": []
  }
 ],
 "metadata": {
  "kernelspec": {
   "display_name": "Python 3 (ipykernel)",
   "language": "python",
   "name": "python3"
  },
  "language_info": {
   "codemirror_mode": {
    "name": "ipython",
    "version": 3
   },
   "file_extension": ".py",
   "mimetype": "text/x-python",
   "name": "python",
   "nbconvert_exporter": "python",
   "pygments_lexer": "ipython3",
   "version": "3.10.12"
  }
 },
 "nbformat": 4,
 "nbformat_minor": 5
}
