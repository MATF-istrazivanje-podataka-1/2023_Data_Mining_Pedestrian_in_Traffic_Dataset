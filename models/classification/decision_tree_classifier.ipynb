{
 "cells": [
  {
   "cell_type": "code",
   "execution_count": 1,
   "id": "2ecc962a",
   "metadata": {},
   "outputs": [],
   "source": [
    "import pandas as pd\n",
    "import numpy as np\n",
    "from sklearn.model_selection import train_test_split\n",
    "from sklearn.tree import DecisionTreeClassifier\n",
    "from sklearn.metrics import confusion_matrix, accuracy_score, classification_report\n",
    "from sklearn.tree import plot_tree\n",
    "from matplotlib import pyplot as plt\n",
    "from sklearn.model_selection import GridSearchCV"
   ]
  },
  {
   "cell_type": "code",
   "execution_count": 2,
   "id": "aaad4f46",
   "metadata": {},
   "outputs": [],
   "source": [
    "df = pd.read_csv(\"../../preprocessing/data_preprocessed.csv\")"
   ]
  },
  {
   "cell_type": "code",
   "execution_count": 3,
   "id": "ec61ae21",
   "metadata": {},
   "outputs": [
    {
     "data": {
      "text/html": [
       "<div>\n",
       "<style scoped>\n",
       "    .dataframe tbody tr th:only-of-type {\n",
       "        vertical-align: middle;\n",
       "    }\n",
       "\n",
       "    .dataframe tbody tr th {\n",
       "        vertical-align: top;\n",
       "    }\n",
       "\n",
       "    .dataframe thead th {\n",
       "        text-align: right;\n",
       "    }\n",
       "</style>\n",
       "<table border=\"1\" class=\"dataframe\">\n",
       "  <thead>\n",
       "    <tr style=\"text-align: right;\">\n",
       "      <th></th>\n",
       "      <th>a (AU)</th>\n",
       "      <th>e</th>\n",
       "      <th>i (deg)</th>\n",
       "      <th>w (deg)</th>\n",
       "      <th>Node (deg)</th>\n",
       "      <th>M (deg)</th>\n",
       "      <th>q (AU)</th>\n",
       "      <th>Q (AU)</th>\n",
       "      <th>H (mag)</th>\n",
       "      <th>MOID (AU)</th>\n",
       "      <th>class</th>\n",
       "    </tr>\n",
       "  </thead>\n",
       "  <tbody>\n",
       "    <tr>\n",
       "      <th>0</th>\n",
       "      <td>1.078066</td>\n",
       "      <td>0.826854</td>\n",
       "      <td>22.825495</td>\n",
       "      <td>31.382966</td>\n",
       "      <td>88.010681</td>\n",
       "      <td>215.528772</td>\n",
       "      <td>0.1867</td>\n",
       "      <td>1.97</td>\n",
       "      <td>16.90</td>\n",
       "      <td>0.034507</td>\n",
       "      <td>APO*</td>\n",
       "    </tr>\n",
       "    <tr>\n",
       "      <th>1</th>\n",
       "      <td>1.245304</td>\n",
       "      <td>0.335342</td>\n",
       "      <td>13.337482</td>\n",
       "      <td>276.893024</td>\n",
       "      <td>337.207958</td>\n",
       "      <td>104.155607</td>\n",
       "      <td>0.8277</td>\n",
       "      <td>1.66</td>\n",
       "      <td>15.60</td>\n",
       "      <td>0.030669</td>\n",
       "      <td>APO*</td>\n",
       "    </tr>\n",
       "    <tr>\n",
       "      <th>2</th>\n",
       "      <td>1.470264</td>\n",
       "      <td>0.559922</td>\n",
       "      <td>6.352995</td>\n",
       "      <td>285.852564</td>\n",
       "      <td>35.736768</td>\n",
       "      <td>174.626213</td>\n",
       "      <td>0.6470</td>\n",
       "      <td>2.29</td>\n",
       "      <td>16.25</td>\n",
       "      <td>0.025795</td>\n",
       "      <td>APO*</td>\n",
       "    </tr>\n",
       "    <tr>\n",
       "      <th>3</th>\n",
       "      <td>1.776025</td>\n",
       "      <td>0.650141</td>\n",
       "      <td>39.832538</td>\n",
       "      <td>267.791993</td>\n",
       "      <td>356.903343</td>\n",
       "      <td>173.188556</td>\n",
       "      <td>0.6214</td>\n",
       "      <td>2.93</td>\n",
       "      <td>15.20</td>\n",
       "      <td>0.003551</td>\n",
       "      <td>APO*</td>\n",
       "    </tr>\n",
       "    <tr>\n",
       "      <th>4</th>\n",
       "      <td>1.874123</td>\n",
       "      <td>0.764602</td>\n",
       "      <td>1.326399</td>\n",
       "      <td>43.388048</td>\n",
       "      <td>349.694944</td>\n",
       "      <td>235.158622</td>\n",
       "      <td>0.4412</td>\n",
       "      <td>3.31</td>\n",
       "      <td>18.80</td>\n",
       "      <td>0.011645</td>\n",
       "      <td>APO*</td>\n",
       "    </tr>\n",
       "  </tbody>\n",
       "</table>\n",
       "</div>"
      ],
      "text/plain": [
       "     a (AU)         e    i (deg)     w (deg)  Node (deg)     M (deg)  q (AU)  \\\n",
       "0  1.078066  0.826854  22.825495   31.382966   88.010681  215.528772  0.1867   \n",
       "1  1.245304  0.335342  13.337482  276.893024  337.207958  104.155607  0.8277   \n",
       "2  1.470264  0.559922   6.352995  285.852564   35.736768  174.626213  0.6470   \n",
       "3  1.776025  0.650141  39.832538  267.791993  356.903343  173.188556  0.6214   \n",
       "4  1.874123  0.764602   1.326399   43.388048  349.694944  235.158622  0.4412   \n",
       "\n",
       "   Q (AU)  H (mag)  MOID (AU) class  \n",
       "0    1.97    16.90   0.034507  APO*  \n",
       "1    1.66    15.60   0.030669  APO*  \n",
       "2    2.29    16.25   0.025795  APO*  \n",
       "3    2.93    15.20   0.003551  APO*  \n",
       "4    3.31    18.80   0.011645  APO*  "
      ]
     },
     "execution_count": 3,
     "metadata": {},
     "output_type": "execute_result"
    }
   ],
   "source": [
    "df.head()"
   ]
  },
  {
   "cell_type": "code",
   "execution_count": 4,
   "id": "c325d061",
   "metadata": {},
   "outputs": [
    {
     "data": {
      "text/plain": [
       "(1747, 11)"
      ]
     },
     "execution_count": 4,
     "metadata": {},
     "output_type": "execute_result"
    }
   ],
   "source": [
    "df.shape"
   ]
  },
  {
   "cell_type": "code",
   "execution_count": 5,
   "id": "4ef2976d",
   "metadata": {},
   "outputs": [
    {
     "data": {
      "text/html": [
       "<div>\n",
       "<style scoped>\n",
       "    .dataframe tbody tr th:only-of-type {\n",
       "        vertical-align: middle;\n",
       "    }\n",
       "\n",
       "    .dataframe tbody tr th {\n",
       "        vertical-align: top;\n",
       "    }\n",
       "\n",
       "    .dataframe thead th {\n",
       "        text-align: right;\n",
       "    }\n",
       "</style>\n",
       "<table border=\"1\" class=\"dataframe\">\n",
       "  <thead>\n",
       "    <tr style=\"text-align: right;\">\n",
       "      <th></th>\n",
       "      <th>a (AU)</th>\n",
       "      <th>e</th>\n",
       "      <th>i (deg)</th>\n",
       "      <th>w (deg)</th>\n",
       "      <th>Node (deg)</th>\n",
       "      <th>M (deg)</th>\n",
       "      <th>q (AU)</th>\n",
       "      <th>Q (AU)</th>\n",
       "      <th>H (mag)</th>\n",
       "      <th>MOID (AU)</th>\n",
       "    </tr>\n",
       "  </thead>\n",
       "  <tbody>\n",
       "    <tr>\n",
       "      <th>0</th>\n",
       "      <td>1.078066</td>\n",
       "      <td>0.826854</td>\n",
       "      <td>22.825495</td>\n",
       "      <td>31.382966</td>\n",
       "      <td>88.010681</td>\n",
       "      <td>215.528772</td>\n",
       "      <td>0.1867</td>\n",
       "      <td>1.97</td>\n",
       "      <td>16.90</td>\n",
       "      <td>0.034507</td>\n",
       "    </tr>\n",
       "    <tr>\n",
       "      <th>1</th>\n",
       "      <td>1.245304</td>\n",
       "      <td>0.335342</td>\n",
       "      <td>13.337482</td>\n",
       "      <td>276.893024</td>\n",
       "      <td>337.207958</td>\n",
       "      <td>104.155607</td>\n",
       "      <td>0.8277</td>\n",
       "      <td>1.66</td>\n",
       "      <td>15.60</td>\n",
       "      <td>0.030669</td>\n",
       "    </tr>\n",
       "    <tr>\n",
       "      <th>2</th>\n",
       "      <td>1.470264</td>\n",
       "      <td>0.559922</td>\n",
       "      <td>6.352995</td>\n",
       "      <td>285.852564</td>\n",
       "      <td>35.736768</td>\n",
       "      <td>174.626213</td>\n",
       "      <td>0.6470</td>\n",
       "      <td>2.29</td>\n",
       "      <td>16.25</td>\n",
       "      <td>0.025795</td>\n",
       "    </tr>\n",
       "    <tr>\n",
       "      <th>3</th>\n",
       "      <td>1.776025</td>\n",
       "      <td>0.650141</td>\n",
       "      <td>39.832538</td>\n",
       "      <td>267.791993</td>\n",
       "      <td>356.903343</td>\n",
       "      <td>173.188556</td>\n",
       "      <td>0.6214</td>\n",
       "      <td>2.93</td>\n",
       "      <td>15.20</td>\n",
       "      <td>0.003551</td>\n",
       "    </tr>\n",
       "    <tr>\n",
       "      <th>4</th>\n",
       "      <td>1.874123</td>\n",
       "      <td>0.764602</td>\n",
       "      <td>1.326399</td>\n",
       "      <td>43.388048</td>\n",
       "      <td>349.694944</td>\n",
       "      <td>235.158622</td>\n",
       "      <td>0.4412</td>\n",
       "      <td>3.31</td>\n",
       "      <td>18.80</td>\n",
       "      <td>0.011645</td>\n",
       "    </tr>\n",
       "    <tr>\n",
       "      <th>...</th>\n",
       "      <td>...</td>\n",
       "      <td>...</td>\n",
       "      <td>...</td>\n",
       "      <td>...</td>\n",
       "      <td>...</td>\n",
       "      <td>...</td>\n",
       "      <td>...</td>\n",
       "      <td>...</td>\n",
       "      <td>...</td>\n",
       "      <td>...</td>\n",
       "    </tr>\n",
       "    <tr>\n",
       "      <th>1742</th>\n",
       "      <td>1.662826</td>\n",
       "      <td>0.382487</td>\n",
       "      <td>0.874625</td>\n",
       "      <td>304.980506</td>\n",
       "      <td>221.156655</td>\n",
       "      <td>312.111572</td>\n",
       "      <td>1.0268</td>\n",
       "      <td>2.30</td>\n",
       "      <td>21.08</td>\n",
       "      <td>0.036365</td>\n",
       "    </tr>\n",
       "    <tr>\n",
       "      <th>1743</th>\n",
       "      <td>2.706630</td>\n",
       "      <td>0.764459</td>\n",
       "      <td>11.433742</td>\n",
       "      <td>282.994922</td>\n",
       "      <td>267.501145</td>\n",
       "      <td>344.253089</td>\n",
       "      <td>0.6375</td>\n",
       "      <td>4.78</td>\n",
       "      <td>20.19</td>\n",
       "      <td>0.016630</td>\n",
       "    </tr>\n",
       "    <tr>\n",
       "      <th>1744</th>\n",
       "      <td>2.037870</td>\n",
       "      <td>0.667525</td>\n",
       "      <td>8.906649</td>\n",
       "      <td>279.721935</td>\n",
       "      <td>64.690270</td>\n",
       "      <td>19.063147</td>\n",
       "      <td>0.6775</td>\n",
       "      <td>3.40</td>\n",
       "      <td>21.86</td>\n",
       "      <td>0.007084</td>\n",
       "    </tr>\n",
       "    <tr>\n",
       "      <th>1745</th>\n",
       "      <td>2.095193</td>\n",
       "      <td>0.654662</td>\n",
       "      <td>4.014503</td>\n",
       "      <td>145.429653</td>\n",
       "      <td>25.164523</td>\n",
       "      <td>340.766105</td>\n",
       "      <td>0.7235</td>\n",
       "      <td>3.47</td>\n",
       "      <td>21.91</td>\n",
       "      <td>0.044428</td>\n",
       "    </tr>\n",
       "    <tr>\n",
       "      <th>1746</th>\n",
       "      <td>2.804294</td>\n",
       "      <td>0.667236</td>\n",
       "      <td>4.724883</td>\n",
       "      <td>234.125980</td>\n",
       "      <td>183.574675</td>\n",
       "      <td>349.530160</td>\n",
       "      <td>0.9332</td>\n",
       "      <td>4.68</td>\n",
       "      <td>20.40</td>\n",
       "      <td>0.028788</td>\n",
       "    </tr>\n",
       "  </tbody>\n",
       "</table>\n",
       "<p>1747 rows × 10 columns</p>\n",
       "</div>"
      ],
      "text/plain": [
       "        a (AU)         e    i (deg)     w (deg)  Node (deg)     M (deg)  \\\n",
       "0     1.078066  0.826854  22.825495   31.382966   88.010681  215.528772   \n",
       "1     1.245304  0.335342  13.337482  276.893024  337.207958  104.155607   \n",
       "2     1.470264  0.559922   6.352995  285.852564   35.736768  174.626213   \n",
       "3     1.776025  0.650141  39.832538  267.791993  356.903343  173.188556   \n",
       "4     1.874123  0.764602   1.326399   43.388048  349.694944  235.158622   \n",
       "...        ...       ...        ...         ...         ...         ...   \n",
       "1742  1.662826  0.382487   0.874625  304.980506  221.156655  312.111572   \n",
       "1743  2.706630  0.764459  11.433742  282.994922  267.501145  344.253089   \n",
       "1744  2.037870  0.667525   8.906649  279.721935   64.690270   19.063147   \n",
       "1745  2.095193  0.654662   4.014503  145.429653   25.164523  340.766105   \n",
       "1746  2.804294  0.667236   4.724883  234.125980  183.574675  349.530160   \n",
       "\n",
       "      q (AU)  Q (AU)  H (mag)  MOID (AU)  \n",
       "0     0.1867    1.97    16.90   0.034507  \n",
       "1     0.8277    1.66    15.60   0.030669  \n",
       "2     0.6470    2.29    16.25   0.025795  \n",
       "3     0.6214    2.93    15.20   0.003551  \n",
       "4     0.4412    3.31    18.80   0.011645  \n",
       "...      ...     ...      ...        ...  \n",
       "1742  1.0268    2.30    21.08   0.036365  \n",
       "1743  0.6375    4.78    20.19   0.016630  \n",
       "1744  0.6775    3.40    21.86   0.007084  \n",
       "1745  0.7235    3.47    21.91   0.044428  \n",
       "1746  0.9332    4.68    20.40   0.028788  \n",
       "\n",
       "[1747 rows x 10 columns]"
      ]
     },
     "execution_count": 5,
     "metadata": {},
     "output_type": "execute_result"
    }
   ],
   "source": [
    "feature_names = df.columns.to_list()[:-1]\n",
    "X = df[feature_names]\n",
    "X"
   ]
  },
  {
   "cell_type": "code",
   "execution_count": 6,
   "id": "46254bbf",
   "metadata": {},
   "outputs": [
    {
     "data": {
      "text/plain": [
       "0       APO*\n",
       "1       APO*\n",
       "2       APO*\n",
       "3       APO*\n",
       "4       APO*\n",
       "        ... \n",
       "1742    AMO*\n",
       "1743    APO*\n",
       "1744    APO*\n",
       "1745    APO*\n",
       "1746    APO*\n",
       "Name: class, Length: 1747, dtype: object"
      ]
     },
     "execution_count": 6,
     "metadata": {},
     "output_type": "execute_result"
    }
   ],
   "source": [
    "y = df['class']\n",
    "y"
   ]
  },
  {
   "cell_type": "code",
   "execution_count": 7,
   "id": "925876f7",
   "metadata": {},
   "outputs": [],
   "source": [
    "X_train, X_test, y_train, y_test = train_test_split(X, y, test_size = 0.3, random_state = 0, stratify = y)"
   ]
  },
  {
   "cell_type": "code",
   "execution_count": 8,
   "id": "afba53c0",
   "metadata": {},
   "outputs": [
    {
     "data": {
      "text/plain": [
       "(1222, 10)"
      ]
     },
     "execution_count": 8,
     "metadata": {},
     "output_type": "execute_result"
    }
   ],
   "source": [
    "X_train.shape"
   ]
  },
  {
   "cell_type": "code",
   "execution_count": 9,
   "id": "ebcf9d27",
   "metadata": {},
   "outputs": [
    {
     "data": {
      "text/plain": [
       "(525, 10)"
      ]
     },
     "execution_count": 9,
     "metadata": {},
     "output_type": "execute_result"
    }
   ],
   "source": [
    "X_test.shape"
   ]
  },
  {
   "cell_type": "code",
   "execution_count": 10,
   "id": "e28e400e",
   "metadata": {},
   "outputs": [
    {
     "data": {
      "text/plain": [
       "(1222,)"
      ]
     },
     "execution_count": 10,
     "metadata": {},
     "output_type": "execute_result"
    }
   ],
   "source": [
    "y_train.shape"
   ]
  },
  {
   "cell_type": "code",
   "execution_count": 11,
   "id": "5aeddc66",
   "metadata": {},
   "outputs": [
    {
     "data": {
      "text/plain": [
       "(525,)"
      ]
     },
     "execution_count": 11,
     "metadata": {},
     "output_type": "execute_result"
    }
   ],
   "source": [
    "y_test.shape"
   ]
  },
  {
   "cell_type": "code",
   "execution_count": 28,
   "id": "4396bbbb",
   "metadata": {},
   "outputs": [],
   "source": [
    "params = {\n",
    "    'criterion' : ['gini', 'entropy'],\n",
    "    'max_depth' : [2,3,4,5,6,7],\n",
    "    'min_samples_leaf' : [2,3]\n",
    "}"
   ]
  },
  {
   "cell_type": "code",
   "execution_count": 29,
   "id": "55886350",
   "metadata": {},
   "outputs": [],
   "source": [
    "estimator = GridSearchCV(DecisionTreeClassifier(), param_grid = params, scoring = 'accuracy', cv = 4, verbose = 4)\n",
    "#cv je broj foldova odnosno koliko puta se bira razlicit validacioni skup"
   ]
  },
  {
   "cell_type": "code",
   "execution_count": 30,
   "id": "f39c0c76",
   "metadata": {},
   "outputs": [
    {
     "name": "stdout",
     "output_type": "stream",
     "text": [
      "Fitting 4 folds for each of 24 candidates, totalling 96 fits\n",
      "[CV 1/4] END criterion=gini, max_depth=2, min_samples_leaf=2;, score=0.984 total time=   0.0s\n",
      "[CV 2/4] END criterion=gini, max_depth=2, min_samples_leaf=2;, score=0.987 total time=   0.0s\n",
      "[CV 3/4] END criterion=gini, max_depth=2, min_samples_leaf=2;, score=0.990 total time=   0.0s\n",
      "[CV 4/4] END criterion=gini, max_depth=2, min_samples_leaf=2;, score=0.987 total time=   0.0s\n",
      "[CV 1/4] END criterion=gini, max_depth=2, min_samples_leaf=3;, score=0.984 total time=   0.0s\n",
      "[CV 2/4] END criterion=gini, max_depth=2, min_samples_leaf=3;, score=0.987 total time=   0.0s\n",
      "[CV 3/4] END criterion=gini, max_depth=2, min_samples_leaf=3;, score=0.990 total time=   0.0s\n",
      "[CV 4/4] END criterion=gini, max_depth=2, min_samples_leaf=3;, score=0.987 total time=   0.0s\n",
      "[CV 1/4] END criterion=gini, max_depth=3, min_samples_leaf=2;, score=0.990 total time=   0.0s\n",
      "[CV 2/4] END criterion=gini, max_depth=3, min_samples_leaf=2;, score=1.000 total time=   0.0s\n",
      "[CV 3/4] END criterion=gini, max_depth=3, min_samples_leaf=2;, score=1.000 total time=   0.0s\n",
      "[CV 4/4] END criterion=gini, max_depth=3, min_samples_leaf=2;, score=1.000 total time=   0.0s\n",
      "[CV 1/4] END criterion=gini, max_depth=3, min_samples_leaf=3;, score=0.990 total time=   0.0s\n",
      "[CV 2/4] END criterion=gini, max_depth=3, min_samples_leaf=3;, score=1.000 total time=   0.0s\n",
      "[CV 3/4] END criterion=gini, max_depth=3, min_samples_leaf=3;, score=1.000 total time=   0.0s\n",
      "[CV 4/4] END criterion=gini, max_depth=3, min_samples_leaf=3;, score=1.000 total time=   0.0s\n",
      "[CV 1/4] END criterion=gini, max_depth=4, min_samples_leaf=2;, score=0.990 total time=   0.0s\n",
      "[CV 2/4] END criterion=gini, max_depth=4, min_samples_leaf=2;, score=1.000 total time=   0.0s\n",
      "[CV 3/4] END criterion=gini, max_depth=4, min_samples_leaf=2;, score=1.000 total time=   0.0s\n",
      "[CV 4/4] END criterion=gini, max_depth=4, min_samples_leaf=2;, score=1.000 total time=   0.0s\n",
      "[CV 1/4] END criterion=gini, max_depth=4, min_samples_leaf=3;, score=0.990 total time=   0.0s\n",
      "[CV 2/4] END criterion=gini, max_depth=4, min_samples_leaf=3;, score=1.000 total time=   0.0s\n",
      "[CV 3/4] END criterion=gini, max_depth=4, min_samples_leaf=3;, score=1.000 total time=   0.0s\n",
      "[CV 4/4] END criterion=gini, max_depth=4, min_samples_leaf=3;, score=1.000 total time=   0.0s\n",
      "[CV 1/4] END criterion=gini, max_depth=5, min_samples_leaf=2;, score=0.990 total time=   0.0s\n",
      "[CV 2/4] END criterion=gini, max_depth=5, min_samples_leaf=2;, score=1.000 total time=   0.0s\n",
      "[CV 3/4] END criterion=gini, max_depth=5, min_samples_leaf=2;, score=1.000 total time=   0.0s\n",
      "[CV 4/4] END criterion=gini, max_depth=5, min_samples_leaf=2;, score=1.000 total time=   0.0s\n",
      "[CV 1/4] END criterion=gini, max_depth=5, min_samples_leaf=3;, score=0.990 total time=   0.0s\n",
      "[CV 2/4] END criterion=gini, max_depth=5, min_samples_leaf=3;, score=1.000 total time=   0.0s\n",
      "[CV 3/4] END criterion=gini, max_depth=5, min_samples_leaf=3;, score=1.000 total time=   0.0s\n",
      "[CV 4/4] END criterion=gini, max_depth=5, min_samples_leaf=3;, score=1.000 total time=   0.0s\n",
      "[CV 1/4] END criterion=gini, max_depth=6, min_samples_leaf=2;, score=0.990 total time=   0.0s\n",
      "[CV 2/4] END criterion=gini, max_depth=6, min_samples_leaf=2;, score=1.000 total time=   0.0s\n",
      "[CV 3/4] END criterion=gini, max_depth=6, min_samples_leaf=2;, score=1.000 total time=   0.0s\n",
      "[CV 4/4] END criterion=gini, max_depth=6, min_samples_leaf=2;, score=1.000 total time=   0.0s\n",
      "[CV 1/4] END criterion=gini, max_depth=6, min_samples_leaf=3;, score=0.990 total time=   0.0s\n",
      "[CV 2/4] END criterion=gini, max_depth=6, min_samples_leaf=3;, score=1.000 total time=   0.0s\n",
      "[CV 3/4] END criterion=gini, max_depth=6, min_samples_leaf=3;, score=1.000 total time=   0.0s\n",
      "[CV 4/4] END criterion=gini, max_depth=6, min_samples_leaf=3;, score=1.000 total time=   0.0s\n",
      "[CV 1/4] END criterion=gini, max_depth=7, min_samples_leaf=2;, score=0.990 total time=   0.0s\n",
      "[CV 2/4] END criterion=gini, max_depth=7, min_samples_leaf=2;, score=1.000 total time=   0.0s\n",
      "[CV 3/4] END criterion=gini, max_depth=7, min_samples_leaf=2;, score=1.000 total time=   0.0s\n",
      "[CV 4/4] END criterion=gini, max_depth=7, min_samples_leaf=2;, score=1.000 total time=   0.0s\n",
      "[CV 1/4] END criterion=gini, max_depth=7, min_samples_leaf=3;, score=0.990 total time=   0.0s\n",
      "[CV 2/4] END criterion=gini, max_depth=7, min_samples_leaf=3;, score=1.000 total time=   0.0s\n",
      "[CV 3/4] END criterion=gini, max_depth=7, min_samples_leaf=3;, score=1.000 total time=   0.0s\n",
      "[CV 4/4] END criterion=gini, max_depth=7, min_samples_leaf=3;, score=1.000 total time=   0.0s\n",
      "[CV 1/4] END criterion=entropy, max_depth=2, min_samples_leaf=2;, score=0.987 total time=   0.0s\n",
      "[CV 2/4] END criterion=entropy, max_depth=2, min_samples_leaf=2;, score=0.987 total time=   0.0s\n",
      "[CV 3/4] END criterion=entropy, max_depth=2, min_samples_leaf=2;, score=0.990 total time=   0.0s\n",
      "[CV 4/4] END criterion=entropy, max_depth=2, min_samples_leaf=2;, score=0.987 total time=   0.0s\n",
      "[CV 1/4] END criterion=entropy, max_depth=2, min_samples_leaf=3;, score=0.987 total time=   0.0s\n",
      "[CV 2/4] END criterion=entropy, max_depth=2, min_samples_leaf=3;, score=0.987 total time=   0.0s\n",
      "[CV 3/4] END criterion=entropy, max_depth=2, min_samples_leaf=3;, score=0.990 total time=   0.0s\n",
      "[CV 4/4] END criterion=entropy, max_depth=2, min_samples_leaf=3;, score=0.987 total time=   0.0s\n",
      "[CV 1/4] END criterion=entropy, max_depth=3, min_samples_leaf=2;, score=0.993 total time=   0.0s\n",
      "[CV 2/4] END criterion=entropy, max_depth=3, min_samples_leaf=2;, score=1.000 total time=   0.0s\n",
      "[CV 3/4] END criterion=entropy, max_depth=3, min_samples_leaf=2;, score=1.000 total time=   0.0s\n",
      "[CV 4/4] END criterion=entropy, max_depth=3, min_samples_leaf=2;, score=1.000 total time=   0.0s\n",
      "[CV 1/4] END criterion=entropy, max_depth=3, min_samples_leaf=3;, score=0.993 total time=   0.0s\n",
      "[CV 2/4] END criterion=entropy, max_depth=3, min_samples_leaf=3;, score=1.000 total time=   0.0s\n",
      "[CV 3/4] END criterion=entropy, max_depth=3, min_samples_leaf=3;, score=1.000 total time=   0.0s\n",
      "[CV 4/4] END criterion=entropy, max_depth=3, min_samples_leaf=3;, score=1.000 total time=   0.0s\n",
      "[CV 1/4] END criterion=entropy, max_depth=4, min_samples_leaf=2;, score=0.993 total time=   0.0s\n",
      "[CV 2/4] END criterion=entropy, max_depth=4, min_samples_leaf=2;, score=1.000 total time=   0.0s\n",
      "[CV 3/4] END criterion=entropy, max_depth=4, min_samples_leaf=2;, score=1.000 total time=   0.0s\n",
      "[CV 4/4] END criterion=entropy, max_depth=4, min_samples_leaf=2;, score=1.000 total time=   0.0s\n",
      "[CV 1/4] END criterion=entropy, max_depth=4, min_samples_leaf=3;, score=0.993 total time=   0.0s\n",
      "[CV 2/4] END criterion=entropy, max_depth=4, min_samples_leaf=3;, score=1.000 total time=   0.0s\n",
      "[CV 3/4] END criterion=entropy, max_depth=4, min_samples_leaf=3;, score=1.000 total time=   0.0s\n",
      "[CV 4/4] END criterion=entropy, max_depth=4, min_samples_leaf=3;, score=1.000 total time=   0.0s\n",
      "[CV 1/4] END criterion=entropy, max_depth=5, min_samples_leaf=2;, score=0.993 total time=   0.0s\n",
      "[CV 2/4] END criterion=entropy, max_depth=5, min_samples_leaf=2;, score=1.000 total time=   0.0s\n",
      "[CV 3/4] END criterion=entropy, max_depth=5, min_samples_leaf=2;, score=1.000 total time=   0.0s\n",
      "[CV 4/4] END criterion=entropy, max_depth=5, min_samples_leaf=2;, score=1.000 total time=   0.0s\n",
      "[CV 1/4] END criterion=entropy, max_depth=5, min_samples_leaf=3;, score=0.993 total time=   0.0s\n",
      "[CV 2/4] END criterion=entropy, max_depth=5, min_samples_leaf=3;, score=1.000 total time=   0.0s\n",
      "[CV 3/4] END criterion=entropy, max_depth=5, min_samples_leaf=3;, score=1.000 total time=   0.0s\n",
      "[CV 4/4] END criterion=entropy, max_depth=5, min_samples_leaf=3;, score=1.000 total time=   0.0s\n",
      "[CV 1/4] END criterion=entropy, max_depth=6, min_samples_leaf=2;, score=0.993 total time=   0.0s\n",
      "[CV 2/4] END criterion=entropy, max_depth=6, min_samples_leaf=2;, score=1.000 total time=   0.0s\n",
      "[CV 3/4] END criterion=entropy, max_depth=6, min_samples_leaf=2;, score=1.000 total time=   0.0s\n",
      "[CV 4/4] END criterion=entropy, max_depth=6, min_samples_leaf=2;, score=1.000 total time=   0.0s\n",
      "[CV 1/4] END criterion=entropy, max_depth=6, min_samples_leaf=3;, score=0.993 total time=   0.0s\n",
      "[CV 2/4] END criterion=entropy, max_depth=6, min_samples_leaf=3;, score=1.000 total time=   0.0s\n",
      "[CV 3/4] END criterion=entropy, max_depth=6, min_samples_leaf=3;, score=1.000 total time=   0.0s\n",
      "[CV 4/4] END criterion=entropy, max_depth=6, min_samples_leaf=3;, score=1.000 total time=   0.0s\n",
      "[CV 1/4] END criterion=entropy, max_depth=7, min_samples_leaf=2;, score=0.993 total time=   0.0s\n",
      "[CV 2/4] END criterion=entropy, max_depth=7, min_samples_leaf=2;, score=1.000 total time=   0.0s\n"
     ]
    },
    {
     "name": "stdout",
     "output_type": "stream",
     "text": [
      "[CV 3/4] END criterion=entropy, max_depth=7, min_samples_leaf=2;, score=1.000 total time=   0.0s\n",
      "[CV 4/4] END criterion=entropy, max_depth=7, min_samples_leaf=2;, score=1.000 total time=   0.0s\n",
      "[CV 1/4] END criterion=entropy, max_depth=7, min_samples_leaf=3;, score=0.993 total time=   0.0s\n",
      "[CV 2/4] END criterion=entropy, max_depth=7, min_samples_leaf=3;, score=1.000 total time=   0.0s\n",
      "[CV 3/4] END criterion=entropy, max_depth=7, min_samples_leaf=3;, score=1.000 total time=   0.0s\n",
      "[CV 4/4] END criterion=entropy, max_depth=7, min_samples_leaf=3;, score=1.000 total time=   0.0s\n"
     ]
    },
    {
     "data": {
      "text/html": [
       "<style>#sk-container-id-5 {color: black;background-color: white;}#sk-container-id-5 pre{padding: 0;}#sk-container-id-5 div.sk-toggleable {background-color: white;}#sk-container-id-5 label.sk-toggleable__label {cursor: pointer;display: block;width: 100%;margin-bottom: 0;padding: 0.3em;box-sizing: border-box;text-align: center;}#sk-container-id-5 label.sk-toggleable__label-arrow:before {content: \"▸\";float: left;margin-right: 0.25em;color: #696969;}#sk-container-id-5 label.sk-toggleable__label-arrow:hover:before {color: black;}#sk-container-id-5 div.sk-estimator:hover label.sk-toggleable__label-arrow:before {color: black;}#sk-container-id-5 div.sk-toggleable__content {max-height: 0;max-width: 0;overflow: hidden;text-align: left;background-color: #f0f8ff;}#sk-container-id-5 div.sk-toggleable__content pre {margin: 0.2em;color: black;border-radius: 0.25em;background-color: #f0f8ff;}#sk-container-id-5 input.sk-toggleable__control:checked~div.sk-toggleable__content {max-height: 200px;max-width: 100%;overflow: auto;}#sk-container-id-5 input.sk-toggleable__control:checked~label.sk-toggleable__label-arrow:before {content: \"▾\";}#sk-container-id-5 div.sk-estimator input.sk-toggleable__control:checked~label.sk-toggleable__label {background-color: #d4ebff;}#sk-container-id-5 div.sk-label input.sk-toggleable__control:checked~label.sk-toggleable__label {background-color: #d4ebff;}#sk-container-id-5 input.sk-hidden--visually {border: 0;clip: rect(1px 1px 1px 1px);clip: rect(1px, 1px, 1px, 1px);height: 1px;margin: -1px;overflow: hidden;padding: 0;position: absolute;width: 1px;}#sk-container-id-5 div.sk-estimator {font-family: monospace;background-color: #f0f8ff;border: 1px dotted black;border-radius: 0.25em;box-sizing: border-box;margin-bottom: 0.5em;}#sk-container-id-5 div.sk-estimator:hover {background-color: #d4ebff;}#sk-container-id-5 div.sk-parallel-item::after {content: \"\";width: 100%;border-bottom: 1px solid gray;flex-grow: 1;}#sk-container-id-5 div.sk-label:hover label.sk-toggleable__label {background-color: #d4ebff;}#sk-container-id-5 div.sk-serial::before {content: \"\";position: absolute;border-left: 1px solid gray;box-sizing: border-box;top: 0;bottom: 0;left: 50%;z-index: 0;}#sk-container-id-5 div.sk-serial {display: flex;flex-direction: column;align-items: center;background-color: white;padding-right: 0.2em;padding-left: 0.2em;position: relative;}#sk-container-id-5 div.sk-item {position: relative;z-index: 1;}#sk-container-id-5 div.sk-parallel {display: flex;align-items: stretch;justify-content: center;background-color: white;position: relative;}#sk-container-id-5 div.sk-item::before, #sk-container-id-5 div.sk-parallel-item::before {content: \"\";position: absolute;border-left: 1px solid gray;box-sizing: border-box;top: 0;bottom: 0;left: 50%;z-index: -1;}#sk-container-id-5 div.sk-parallel-item {display: flex;flex-direction: column;z-index: 1;position: relative;background-color: white;}#sk-container-id-5 div.sk-parallel-item:first-child::after {align-self: flex-end;width: 50%;}#sk-container-id-5 div.sk-parallel-item:last-child::after {align-self: flex-start;width: 50%;}#sk-container-id-5 div.sk-parallel-item:only-child::after {width: 0;}#sk-container-id-5 div.sk-dashed-wrapped {border: 1px dashed gray;margin: 0 0.4em 0.5em 0.4em;box-sizing: border-box;padding-bottom: 0.4em;background-color: white;}#sk-container-id-5 div.sk-label label {font-family: monospace;font-weight: bold;display: inline-block;line-height: 1.2em;}#sk-container-id-5 div.sk-label-container {text-align: center;}#sk-container-id-5 div.sk-container {/* jupyter's `normalize.less` sets `[hidden] { display: none; }` but bootstrap.min.css set `[hidden] { display: none !important; }` so we also need the `!important` here to be able to override the default hidden behavior on the sphinx rendered scikit-learn.org. See: https://github.com/scikit-learn/scikit-learn/issues/21755 */display: inline-block !important;position: relative;}#sk-container-id-5 div.sk-text-repr-fallback {display: none;}</style><div id=\"sk-container-id-5\" class=\"sk-top-container\"><div class=\"sk-text-repr-fallback\"><pre>GridSearchCV(cv=4, estimator=DecisionTreeClassifier(),\n",
       "             param_grid={&#x27;criterion&#x27;: [&#x27;gini&#x27;, &#x27;entropy&#x27;],\n",
       "                         &#x27;max_depth&#x27;: [2, 3, 4, 5, 6, 7],\n",
       "                         &#x27;min_samples_leaf&#x27;: [2, 3]},\n",
       "             scoring=&#x27;accuracy&#x27;, verbose=4)</pre><b>In a Jupyter environment, please rerun this cell to show the HTML representation or trust the notebook. <br />On GitHub, the HTML representation is unable to render, please try loading this page with nbviewer.org.</b></div><div class=\"sk-container\" hidden><div class=\"sk-item sk-dashed-wrapped\"><div class=\"sk-label-container\"><div class=\"sk-label sk-toggleable\"><input class=\"sk-toggleable__control sk-hidden--visually\" id=\"sk-estimator-id-9\" type=\"checkbox\" ><label for=\"sk-estimator-id-9\" class=\"sk-toggleable__label sk-toggleable__label-arrow\">GridSearchCV</label><div class=\"sk-toggleable__content\"><pre>GridSearchCV(cv=4, estimator=DecisionTreeClassifier(),\n",
       "             param_grid={&#x27;criterion&#x27;: [&#x27;gini&#x27;, &#x27;entropy&#x27;],\n",
       "                         &#x27;max_depth&#x27;: [2, 3, 4, 5, 6, 7],\n",
       "                         &#x27;min_samples_leaf&#x27;: [2, 3]},\n",
       "             scoring=&#x27;accuracy&#x27;, verbose=4)</pre></div></div></div><div class=\"sk-parallel\"><div class=\"sk-parallel-item\"><div class=\"sk-item\"><div class=\"sk-label-container\"><div class=\"sk-label sk-toggleable\"><input class=\"sk-toggleable__control sk-hidden--visually\" id=\"sk-estimator-id-10\" type=\"checkbox\" ><label for=\"sk-estimator-id-10\" class=\"sk-toggleable__label sk-toggleable__label-arrow\">estimator: DecisionTreeClassifier</label><div class=\"sk-toggleable__content\"><pre>DecisionTreeClassifier()</pre></div></div></div><div class=\"sk-serial\"><div class=\"sk-item\"><div class=\"sk-estimator sk-toggleable\"><input class=\"sk-toggleable__control sk-hidden--visually\" id=\"sk-estimator-id-11\" type=\"checkbox\" ><label for=\"sk-estimator-id-11\" class=\"sk-toggleable__label sk-toggleable__label-arrow\">DecisionTreeClassifier</label><div class=\"sk-toggleable__content\"><pre>DecisionTreeClassifier()</pre></div></div></div></div></div></div></div></div></div></div>"
      ],
      "text/plain": [
       "GridSearchCV(cv=4, estimator=DecisionTreeClassifier(),\n",
       "             param_grid={'criterion': ['gini', 'entropy'],\n",
       "                         'max_depth': [2, 3, 4, 5, 6, 7],\n",
       "                         'min_samples_leaf': [2, 3]},\n",
       "             scoring='accuracy', verbose=4)"
      ]
     },
     "execution_count": 30,
     "metadata": {},
     "output_type": "execute_result"
    }
   ],
   "source": [
    "estimator.fit(X_train, y_train)"
   ]
  },
  {
   "cell_type": "code",
   "execution_count": 31,
   "id": "c8f4bce5",
   "metadata": {},
   "outputs": [
    {
     "data": {
      "text/html": [
       "<style>#sk-container-id-6 {color: black;background-color: white;}#sk-container-id-6 pre{padding: 0;}#sk-container-id-6 div.sk-toggleable {background-color: white;}#sk-container-id-6 label.sk-toggleable__label {cursor: pointer;display: block;width: 100%;margin-bottom: 0;padding: 0.3em;box-sizing: border-box;text-align: center;}#sk-container-id-6 label.sk-toggleable__label-arrow:before {content: \"▸\";float: left;margin-right: 0.25em;color: #696969;}#sk-container-id-6 label.sk-toggleable__label-arrow:hover:before {color: black;}#sk-container-id-6 div.sk-estimator:hover label.sk-toggleable__label-arrow:before {color: black;}#sk-container-id-6 div.sk-toggleable__content {max-height: 0;max-width: 0;overflow: hidden;text-align: left;background-color: #f0f8ff;}#sk-container-id-6 div.sk-toggleable__content pre {margin: 0.2em;color: black;border-radius: 0.25em;background-color: #f0f8ff;}#sk-container-id-6 input.sk-toggleable__control:checked~div.sk-toggleable__content {max-height: 200px;max-width: 100%;overflow: auto;}#sk-container-id-6 input.sk-toggleable__control:checked~label.sk-toggleable__label-arrow:before {content: \"▾\";}#sk-container-id-6 div.sk-estimator input.sk-toggleable__control:checked~label.sk-toggleable__label {background-color: #d4ebff;}#sk-container-id-6 div.sk-label input.sk-toggleable__control:checked~label.sk-toggleable__label {background-color: #d4ebff;}#sk-container-id-6 input.sk-hidden--visually {border: 0;clip: rect(1px 1px 1px 1px);clip: rect(1px, 1px, 1px, 1px);height: 1px;margin: -1px;overflow: hidden;padding: 0;position: absolute;width: 1px;}#sk-container-id-6 div.sk-estimator {font-family: monospace;background-color: #f0f8ff;border: 1px dotted black;border-radius: 0.25em;box-sizing: border-box;margin-bottom: 0.5em;}#sk-container-id-6 div.sk-estimator:hover {background-color: #d4ebff;}#sk-container-id-6 div.sk-parallel-item::after {content: \"\";width: 100%;border-bottom: 1px solid gray;flex-grow: 1;}#sk-container-id-6 div.sk-label:hover label.sk-toggleable__label {background-color: #d4ebff;}#sk-container-id-6 div.sk-serial::before {content: \"\";position: absolute;border-left: 1px solid gray;box-sizing: border-box;top: 0;bottom: 0;left: 50%;z-index: 0;}#sk-container-id-6 div.sk-serial {display: flex;flex-direction: column;align-items: center;background-color: white;padding-right: 0.2em;padding-left: 0.2em;position: relative;}#sk-container-id-6 div.sk-item {position: relative;z-index: 1;}#sk-container-id-6 div.sk-parallel {display: flex;align-items: stretch;justify-content: center;background-color: white;position: relative;}#sk-container-id-6 div.sk-item::before, #sk-container-id-6 div.sk-parallel-item::before {content: \"\";position: absolute;border-left: 1px solid gray;box-sizing: border-box;top: 0;bottom: 0;left: 50%;z-index: -1;}#sk-container-id-6 div.sk-parallel-item {display: flex;flex-direction: column;z-index: 1;position: relative;background-color: white;}#sk-container-id-6 div.sk-parallel-item:first-child::after {align-self: flex-end;width: 50%;}#sk-container-id-6 div.sk-parallel-item:last-child::after {align-self: flex-start;width: 50%;}#sk-container-id-6 div.sk-parallel-item:only-child::after {width: 0;}#sk-container-id-6 div.sk-dashed-wrapped {border: 1px dashed gray;margin: 0 0.4em 0.5em 0.4em;box-sizing: border-box;padding-bottom: 0.4em;background-color: white;}#sk-container-id-6 div.sk-label label {font-family: monospace;font-weight: bold;display: inline-block;line-height: 1.2em;}#sk-container-id-6 div.sk-label-container {text-align: center;}#sk-container-id-6 div.sk-container {/* jupyter's `normalize.less` sets `[hidden] { display: none; }` but bootstrap.min.css set `[hidden] { display: none !important; }` so we also need the `!important` here to be able to override the default hidden behavior on the sphinx rendered scikit-learn.org. See: https://github.com/scikit-learn/scikit-learn/issues/21755 */display: inline-block !important;position: relative;}#sk-container-id-6 div.sk-text-repr-fallback {display: none;}</style><div id=\"sk-container-id-6\" class=\"sk-top-container\"><div class=\"sk-text-repr-fallback\"><pre>DecisionTreeClassifier(criterion=&#x27;entropy&#x27;, max_depth=3, min_samples_leaf=2)</pre><b>In a Jupyter environment, please rerun this cell to show the HTML representation or trust the notebook. <br />On GitHub, the HTML representation is unable to render, please try loading this page with nbviewer.org.</b></div><div class=\"sk-container\" hidden><div class=\"sk-item\"><div class=\"sk-estimator sk-toggleable\"><input class=\"sk-toggleable__control sk-hidden--visually\" id=\"sk-estimator-id-12\" type=\"checkbox\" checked><label for=\"sk-estimator-id-12\" class=\"sk-toggleable__label sk-toggleable__label-arrow\">DecisionTreeClassifier</label><div class=\"sk-toggleable__content\"><pre>DecisionTreeClassifier(criterion=&#x27;entropy&#x27;, max_depth=3, min_samples_leaf=2)</pre></div></div></div></div></div>"
      ],
      "text/plain": [
       "DecisionTreeClassifier(criterion='entropy', max_depth=3, min_samples_leaf=2)"
      ]
     },
     "execution_count": 31,
     "metadata": {},
     "output_type": "execute_result"
    }
   ],
   "source": [
    "estimator.best_estimator_"
   ]
  },
  {
   "cell_type": "code",
   "execution_count": 32,
   "id": "e3d51e30",
   "metadata": {},
   "outputs": [
    {
     "data": {
      "text/plain": [
       "0.9983660130718954"
      ]
     },
     "execution_count": 32,
     "metadata": {},
     "output_type": "execute_result"
    }
   ],
   "source": [
    "estimator.best_score_"
   ]
  },
  {
   "cell_type": "code",
   "execution_count": 33,
   "id": "bb541258",
   "metadata": {},
   "outputs": [],
   "source": [
    "model = DecisionTreeClassifier(criterion='entropy', max_depth=3, min_samples_leaf=2)"
   ]
  },
  {
   "cell_type": "code",
   "execution_count": 34,
   "id": "06f97ae4",
   "metadata": {},
   "outputs": [
    {
     "data": {
      "text/html": [
       "<style>#sk-container-id-7 {color: black;background-color: white;}#sk-container-id-7 pre{padding: 0;}#sk-container-id-7 div.sk-toggleable {background-color: white;}#sk-container-id-7 label.sk-toggleable__label {cursor: pointer;display: block;width: 100%;margin-bottom: 0;padding: 0.3em;box-sizing: border-box;text-align: center;}#sk-container-id-7 label.sk-toggleable__label-arrow:before {content: \"▸\";float: left;margin-right: 0.25em;color: #696969;}#sk-container-id-7 label.sk-toggleable__label-arrow:hover:before {color: black;}#sk-container-id-7 div.sk-estimator:hover label.sk-toggleable__label-arrow:before {color: black;}#sk-container-id-7 div.sk-toggleable__content {max-height: 0;max-width: 0;overflow: hidden;text-align: left;background-color: #f0f8ff;}#sk-container-id-7 div.sk-toggleable__content pre {margin: 0.2em;color: black;border-radius: 0.25em;background-color: #f0f8ff;}#sk-container-id-7 input.sk-toggleable__control:checked~div.sk-toggleable__content {max-height: 200px;max-width: 100%;overflow: auto;}#sk-container-id-7 input.sk-toggleable__control:checked~label.sk-toggleable__label-arrow:before {content: \"▾\";}#sk-container-id-7 div.sk-estimator input.sk-toggleable__control:checked~label.sk-toggleable__label {background-color: #d4ebff;}#sk-container-id-7 div.sk-label input.sk-toggleable__control:checked~label.sk-toggleable__label {background-color: #d4ebff;}#sk-container-id-7 input.sk-hidden--visually {border: 0;clip: rect(1px 1px 1px 1px);clip: rect(1px, 1px, 1px, 1px);height: 1px;margin: -1px;overflow: hidden;padding: 0;position: absolute;width: 1px;}#sk-container-id-7 div.sk-estimator {font-family: monospace;background-color: #f0f8ff;border: 1px dotted black;border-radius: 0.25em;box-sizing: border-box;margin-bottom: 0.5em;}#sk-container-id-7 div.sk-estimator:hover {background-color: #d4ebff;}#sk-container-id-7 div.sk-parallel-item::after {content: \"\";width: 100%;border-bottom: 1px solid gray;flex-grow: 1;}#sk-container-id-7 div.sk-label:hover label.sk-toggleable__label {background-color: #d4ebff;}#sk-container-id-7 div.sk-serial::before {content: \"\";position: absolute;border-left: 1px solid gray;box-sizing: border-box;top: 0;bottom: 0;left: 50%;z-index: 0;}#sk-container-id-7 div.sk-serial {display: flex;flex-direction: column;align-items: center;background-color: white;padding-right: 0.2em;padding-left: 0.2em;position: relative;}#sk-container-id-7 div.sk-item {position: relative;z-index: 1;}#sk-container-id-7 div.sk-parallel {display: flex;align-items: stretch;justify-content: center;background-color: white;position: relative;}#sk-container-id-7 div.sk-item::before, #sk-container-id-7 div.sk-parallel-item::before {content: \"\";position: absolute;border-left: 1px solid gray;box-sizing: border-box;top: 0;bottom: 0;left: 50%;z-index: -1;}#sk-container-id-7 div.sk-parallel-item {display: flex;flex-direction: column;z-index: 1;position: relative;background-color: white;}#sk-container-id-7 div.sk-parallel-item:first-child::after {align-self: flex-end;width: 50%;}#sk-container-id-7 div.sk-parallel-item:last-child::after {align-self: flex-start;width: 50%;}#sk-container-id-7 div.sk-parallel-item:only-child::after {width: 0;}#sk-container-id-7 div.sk-dashed-wrapped {border: 1px dashed gray;margin: 0 0.4em 0.5em 0.4em;box-sizing: border-box;padding-bottom: 0.4em;background-color: white;}#sk-container-id-7 div.sk-label label {font-family: monospace;font-weight: bold;display: inline-block;line-height: 1.2em;}#sk-container-id-7 div.sk-label-container {text-align: center;}#sk-container-id-7 div.sk-container {/* jupyter's `normalize.less` sets `[hidden] { display: none; }` but bootstrap.min.css set `[hidden] { display: none !important; }` so we also need the `!important` here to be able to override the default hidden behavior on the sphinx rendered scikit-learn.org. See: https://github.com/scikit-learn/scikit-learn/issues/21755 */display: inline-block !important;position: relative;}#sk-container-id-7 div.sk-text-repr-fallback {display: none;}</style><div id=\"sk-container-id-7\" class=\"sk-top-container\"><div class=\"sk-text-repr-fallback\"><pre>DecisionTreeClassifier(criterion=&#x27;entropy&#x27;, max_depth=3, min_samples_leaf=2)</pre><b>In a Jupyter environment, please rerun this cell to show the HTML representation or trust the notebook. <br />On GitHub, the HTML representation is unable to render, please try loading this page with nbviewer.org.</b></div><div class=\"sk-container\" hidden><div class=\"sk-item\"><div class=\"sk-estimator sk-toggleable\"><input class=\"sk-toggleable__control sk-hidden--visually\" id=\"sk-estimator-id-13\" type=\"checkbox\" checked><label for=\"sk-estimator-id-13\" class=\"sk-toggleable__label sk-toggleable__label-arrow\">DecisionTreeClassifier</label><div class=\"sk-toggleable__content\"><pre>DecisionTreeClassifier(criterion=&#x27;entropy&#x27;, max_depth=3, min_samples_leaf=2)</pre></div></div></div></div></div>"
      ],
      "text/plain": [
       "DecisionTreeClassifier(criterion='entropy', max_depth=3, min_samples_leaf=2)"
      ]
     },
     "execution_count": 34,
     "metadata": {},
     "output_type": "execute_result"
    }
   ],
   "source": [
    "model.fit(X_train, y_train)"
   ]
  },
  {
   "cell_type": "markdown",
   "id": "bfd05b78",
   "metadata": {},
   "source": [
    "model.fit(X_train, y_train)"
   ]
  },
  {
   "cell_type": "code",
   "execution_count": 35,
   "id": "7ffb174b",
   "metadata": {},
   "outputs": [
    {
     "data": {
      "text/plain": [
       "array(['AMO*', 'APO', 'APO*', 'ATE', 'ATE*', 'IEO*'], dtype=object)"
      ]
     },
     "execution_count": 35,
     "metadata": {},
     "output_type": "execute_result"
    }
   ],
   "source": [
    "model.classes_"
   ]
  },
  {
   "cell_type": "code",
   "execution_count": 36,
   "id": "c369ad26",
   "metadata": {},
   "outputs": [
    {
     "data": {
      "text/plain": [
       "array([0.52050221, 0.        , 0.        , 0.        , 0.        ,\n",
       "       0.        , 0.34959337, 0.02364288, 0.10626154, 0.        ])"
      ]
     },
     "execution_count": 36,
     "metadata": {},
     "output_type": "execute_result"
    }
   ],
   "source": [
    "model.feature_importances_"
   ]
  },
  {
   "cell_type": "code",
   "execution_count": 37,
   "id": "d399211a",
   "metadata": {},
   "outputs": [],
   "source": [
    "y_train_pred = model.predict(X_train)"
   ]
  },
  {
   "cell_type": "code",
   "execution_count": 38,
   "id": "92e1f8e2",
   "metadata": {},
   "outputs": [
    {
     "data": {
      "text/plain": [
       "array([[  67,    0,    0,    0,    0,    0],\n",
       "       [   0,   10,    0,    0,    0,    0],\n",
       "       [   0,    0, 1032,    0,    0,    0],\n",
       "       [   0,    0,    0,    5,    0,    0],\n",
       "       [   0,    0,    0,    0,  104,    0],\n",
       "       [   0,    0,    0,    0,    0,    4]])"
      ]
     },
     "execution_count": 38,
     "metadata": {},
     "output_type": "execute_result"
    }
   ],
   "source": [
    "confusion_matrix(y_train, y_train_pred)"
   ]
  },
  {
   "cell_type": "code",
   "execution_count": 39,
   "id": "79b3a8b0",
   "metadata": {},
   "outputs": [],
   "source": [
    "y_test_pred = model.predict(X_test)"
   ]
  },
  {
   "cell_type": "code",
   "execution_count": 40,
   "id": "5985eb8b",
   "metadata": {},
   "outputs": [
    {
     "data": {
      "text/plain": [
       "array([[ 29,   0,   0,   0,   0,   0],\n",
       "       [  0,   4,   0,   0,   0,   0],\n",
       "       [  1,   0, 443,   0,   0,   0],\n",
       "       [  0,   0,   0,   2,   0,   0],\n",
       "       [  0,   0,   1,   0,  44,   0],\n",
       "       [  0,   0,   0,   0,   0,   1]])"
      ]
     },
     "execution_count": 40,
     "metadata": {},
     "output_type": "execute_result"
    }
   ],
   "source": [
    "confusion_matrix(y_test, y_test_pred)"
   ]
  },
  {
   "cell_type": "code",
   "execution_count": 41,
   "id": "730532ab",
   "metadata": {},
   "outputs": [
    {
     "data": {
      "image/png": "[encoded data removed]",
      "text/plain": [
       "<Figure size 1000x1000 with 1 Axes>"
      ]
     },
     "metadata": {},
     "output_type": "display_data"
    }
   ],
   "source": [
    "plt.figure(figsize = (10, 10))\n",
    "_ = plot_tree(model, feature_names=feature_names, class_names = model.classes_, filled = True)"
   ]
  },
  {
   "cell_type": "code",
   "execution_count": null,
   "id": "f3fc8bb5",
   "metadata": {},
   "outputs": [],
   "source": []
  }
 ],
 "metadata": {
  "kernelspec": {
   "display_name": "Python 3 (ipykernel)",
   "language": "python",
   "name": "python3"
  },
  "language_info": {
   "codemirror_mode": {
    "name": "ipython",
    "version": 3
   },
   "file_extension": ".py",
   "mimetype": "text/x-python",
   "name": "python",
   "nbconvert_exporter": "python",
   "pygments_lexer": "ipython3",
   "version": "3.10.12"
  }
 },
 "nbformat": 4,
 "nbformat_minor": 5
}
